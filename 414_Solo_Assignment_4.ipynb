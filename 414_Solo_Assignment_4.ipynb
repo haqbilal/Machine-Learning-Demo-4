{
  "cells": [
    {
      "cell_type": "markdown",
      "metadata": {
        "id": "248_qtulv8jx"
      },
      "source": [
        "# Probabilistic ML (Winter 2022): Homework 4: Variational Autoencoders\n",
        "\n",
        "- **Deadline**: April 8th, at 23:59.\n",
        "- **Submission**: You need to submit your solutions through Crowdmark, including all your derivations, plots, and your code. You can produce the files however you like (e.g. $\\LaTeX$, Microsoft Word, etc), as long as it is readable. Points will be deducted if we have a hard time reading your solutions or understanding the structure of your code.\n",
        "- **Collaboration policy**: After attempting the problems on an individual basis, you may discuss and work together on the assignment with up to two classmates. However, **you must write your own code and write up your own solutions individually and explicitly name any collaborators** at the top of the homework."
      ]
    },
    {
      "cell_type": "markdown",
      "metadata": {
        "id": "jdwwSaI3dswU"
      },
      "source": [
        "## Version 2022/03/31\n",
        "Q1.4 and Q2.1 key --> rng in objective fnc\n",
        "\n",
        "March 31: Removed from Q3 the text \"On a single plot, show the isocontours of the joint distribution $p(z, \\text{top half of image x})$, and the optimized approximate posterior $q_\\phi(z | \\text{top half of image x})$.\"\n",
        "\n",
        "## Your Info\n",
        "\n",
        "- **Name:** Bilal Haq\n",
        "- **Student Number:** 1005214536\n",
        "- **Collaborators:** Ritvik Puri"
      ]
    },
    {
      "cell_type": "markdown",
      "metadata": {
        "id": "nDUMG4VJU4x5"
      },
      "source": [
        "## Question 1: Warm up with synthetic data - 30 points\n",
        "\n",
        "In this question, we will train a VAE on a synhetic data which resembles spirals in 2d. This question is intended to provided you some debugging tools for the next question where you work on MNIST dataset. In both of the questions, we will perform amortized inference with VAEs."
      ]
    },
    {
      "cell_type": "code",
      "execution_count": null,
      "metadata": {
        "colab": {
          "base_uri": "https://localhost:8080/"
        },
        "id": "ZoD8ecKifL2y",
        "outputId": "32da2a5c-7f13-49eb-f8bd-d9a47517c9fe"
      },
      "outputs": [
        {
          "output_type": "stream",
          "name": "stderr",
          "text": [
            "/usr/local/lib/python3.7/dist-packages/jax/experimental/optimizers.py:30: FutureWarning: jax.experimental.optimizers is deprecated, import jax.example_libraries.optimizers instead\n",
            "  FutureWarning)\n",
            "/usr/local/lib/python3.7/dist-packages/jax/experimental/stax.py:30: FutureWarning: jax.experimental.stax is deprecated, import jax.example_libraries.stax instead\n",
            "  FutureWarning)\n"
          ]
        }
      ],
      "source": [
        "from jax import jit, grad, value_and_grad, lax, vmap, random\n",
        "import jax.numpy as np\n",
        "import jax.random\n",
        "from jax.nn import softplus\n",
        "import jax.nn.initializers as nn_init\n",
        "from jax.experimental import optimizers, stax\n",
        "from jax.experimental.stax import serial, parallel, Dense, Relu, FanOut, FanInSum, Softplus, Identity, Tanh\n",
        "from jax.scipy.special import logsumexp\n",
        "from jax.tree_util import register_pytree_node\n",
        "\n",
        "import tensorflow_probability as tfp\n",
        "import tensorflow_probability.substrates.jax.distributions as dists\n",
        "\n",
        "from jax.config import config \n",
        "config.update(\"jax_debug_nans\", True)\n",
        "\n",
        "import matplotlib.pyplot as plt\n",
        "from tqdm.auto import trange\n",
        "from jax.scipy.stats import norm\n",
        "from functools import partial"
      ]
    },
    {
      "cell_type": "markdown",
      "metadata": {
        "id": "6bY5iE66Vq0N"
      },
      "source": [
        "**1.1) [0 points]** The following functions can be used to visualize the output."
      ]
    },
    {
      "cell_type": "code",
      "execution_count": null,
      "metadata": {
        "id": "faO0Tjawhym-"
      },
      "outputs": [],
      "source": [
        "# Helper functions\n",
        "# Plotting helper functions for free\n",
        "def plot_isocontours(ax, func, xlimits=[-3, 3], ylimits=[-3, 3], numticks=101, cmap=\"summer\"):\n",
        "    x = np.linspace(*xlimits, num=numticks)\n",
        "    y = np.linspace(*ylimits, num=numticks)\n",
        "    X, Y = np.meshgrid(x, y)\n",
        "    zs = func(X.ravel(), Y.ravel())\n",
        "    Z = zs.reshape(X.shape)\n",
        "    plt.contour(X, Y, Z, cmap=cmap)\n",
        "    ax.set_yticks([])\n",
        "    ax.set_xticks([])\n",
        "\n",
        "def plot_2d_fun(f, x_axis_label=\"\", y_axis_label=\"\", f2=None, scatter_pts=None):\n",
        "    # This is the function your code should call.\n",
        "    # f() should take two arguments.\n",
        "    fig = plt.figure(figsize=(8,8), facecolor='white')\n",
        "    ax = fig.add_subplot(111, frameon=False)\n",
        "    ax.set_xlabel(x_axis_label)\n",
        "    ax.set_ylabel(y_axis_label)\n",
        "    plot_isocontours(ax, f)\n",
        "    if f2 is not None:\n",
        "      plot_isocontours(ax, f2, cmap='winter')\n",
        "\n",
        "    if scatter_pts is not None:\n",
        "      plt.scatter(scatter_pts[:,0], scatter_pts[:, 1])\n",
        "    plt.plot([3, -3], [3, -3], 'b--')   # Line of equal skill\n",
        "    plt.show(block=True)\n",
        "    plt.draw()\n"
      ]
    },
    {
      "cell_type": "markdown",
      "metadata": {
        "id": "S-NI6vCde9rg"
      },
      "source": [
        "**1.2) [0 points]** Below function generates the synthetic spiral data."
      ]
    },
    {
      "cell_type": "code",
      "execution_count": null,
      "metadata": {
        "id": "uyiFI2Aie9UH"
      },
      "outputs": [],
      "source": [
        "# Code to generate the pinwheel dataset.\n",
        "# Taken from [Johnson et al (2016)], updated by Zhao & Linderman.\n",
        "def make_pinwheel_data(rng, radial_std, tangential_std, num_classes, num_per_class, rate):\n",
        "    rads = np.linspace(0, 2*np.pi, num_classes, endpoint=False)\n",
        "\n",
        "    features = jax.random.normal(rng, (num_classes*num_per_class, 2)) \\\n",
        "        * np.array([radial_std, tangential_std])\n",
        "    features = features.at[:, 0].add(1.0)\n",
        "    labels = np.repeat(np.arange(num_classes), num_per_class)\n",
        "\n",
        "    angles = rads[labels] + rate * np.exp(features[:,0])\n",
        "    rotations = np.stack([np.cos(angles), -np.sin(angles), np.sin(angles), np.cos(angles)])\n",
        "    rotations = np.reshape(rotations.T, (-1, 2, 2))\n",
        "\n",
        "    return jax.random.permutation(rng,labels), jax.random.permutation(rng, np.einsum('ti,tij->tj', features, rotations))"
      ]
    },
    {
      "cell_type": "markdown",
      "metadata": {
        "id": "_4HxOH1GWBno"
      },
      "source": [
        "We visualize the 2d data generated from the above function. Notice that there are 3 clusters in the input space, each colored with a different color. The VAE will not see the cluster assignments, but we hope to recover this structure in the latent space."
      ]
    },
    {
      "cell_type": "code",
      "execution_count": null,
      "metadata": {
        "colab": {
          "base_uri": "https://localhost:8080/",
          "height": 333
        },
        "id": "DUpKL-57dRR9",
        "outputId": "20fd7906-c032-4db2-d9c4-bf2fa9cfecc0"
      },
      "outputs": [
        {
          "output_type": "execute_result",
          "data": {
            "text/plain": [
              "(-1.7937924802303313,\n",
              " 1.8979793727397918,\n",
              " -2.059972715377808,\n",
              " 2.3492221355438234)"
            ]
          },
          "metadata": {},
          "execution_count": 4
        },
        {
          "output_type": "display_data",
          "data": {
            "text/plain": [
              "<Figure size 432x288 with 1 Axes>"
            ],
            "image/png": "[encoded data removed]"
          },
          "metadata": {
            "needs_background": "light"
          }
        }
      ],
      "source": [
        "num_clusters = 3           \n",
        "samples_per_cluster = 300\n",
        "rng = jax.random.PRNGKey(0)\n",
        "labels, data = make_pinwheel_data(rng, 0.3, 0.1, num_clusters, samples_per_cluster, 0.25)\n",
        "\n",
        "for k in range(num_clusters):\n",
        "    plt.scatter(data[labels == k, 0], data[labels == k, 1], s=2)\n",
        "\n",
        "plt.axis(\"equal\")"
      ]
    },
    {
      "cell_type": "markdown",
      "metadata": {
        "id": "QXlBa-8oFn9V"
      },
      "source": [
        "**1.3) [20 points]** Implement the missing lines in the below code, to complete\n",
        "the $\\texttt{elbo}$ function for a variational autoencoder.\n",
        "\n",
        "You can write all your functions to take a single datapoint, and just use vmap() to allow it to take batches.  For instance, this is done for you in the $\\texttt{batch_elbo}()$ function below.\n",
        "\n",
        "You can and should use the same code for both the spiral dataset and MNIST.  The spiral dataset and an example encoder / decoder is provided just to help you debug, and as a template for the MNIST VAE.\n"
      ]
    },
    {
      "cell_type": "code",
      "execution_count": null,
      "metadata": {
        "id": "ChZZaRmqhkvu"
      },
      "outputs": [],
      "source": [
        "# Generic VAE functions.\n",
        "\n",
        "def log_prior(z): \n",
        "    return np.sum(norm.logpdf(z, 0.0, 1.0), axis=-1)\n",
        "\n",
        "def diag_gaussian_sample(rng, mean, log_std): \n",
        "  # Take a single sample from a diagonal multivariate Gaussian.\n",
        "  return mean + np.exp(log_std) * random.normal(rng, mean.shape)\n",
        "\n",
        "def diag_gaussian_logpdf(x, mean, log_std):\n",
        "  # Evaluate a single point on a diagonal multivariate Gaussian.\n",
        "  return np.sum(vmap(norm.logpdf)(x, mean, np.exp(log_std)))\n",
        "\n",
        "def elbo(  # Single-sample Monte Carlo estimate of the variational lower bound.\n",
        "    recognition_net,    # takes recognition_params and a datapoint, outputs mean and log_std of size latent_dim, i.e. log q(z|x)\n",
        "    log_joint,          # takes model_params and a vector of size latent_dim and a datapoint, outputs unnormalized log joint, i.e. log p(x,z)\n",
        "    recognition_params, # a.k.a. phi\n",
        "    model_params,       # a.k.a. theta\n",
        "    datapoint,          # a.k.a. x\n",
        "    rng):\n",
        "\n",
        "  q_params = recognition_net(recognition_params, datapoint)                 # Call recognition net.\n",
        "  sample = diag_gaussian_sample(rng, q_params[0], q_params[1])              # Sample z from approximate posterior.\n",
        "  log_joint_value = log_joint(model_params, sample, datapoint)              # Call log p(z, x).\n",
        "  log_post_value = diag_gaussian_logpdf(sample, q_params[0], q_params[1])   # Evaluate density of log posterior q(z).\n",
        "  elbo_hat = log_joint_value - log_post_value                               # Produce an unbiased esimate of the ELBO.\n",
        "  return elbo_hat\n",
        "\n",
        "def batch_elbo(recognition_net, log_joint, recognition_params,\n",
        "               model_params, data, rng):\n",
        "  # Average ELBO estimate over a batch of random samples.\n",
        "  batch_size = data.shape[0]\n",
        "  rngs = random.split(rng, batch_size)\n",
        "  vectorized_elbo = vmap(partial(elbo, recognition_net, log_joint,\n",
        "                                 recognition_params, model_params),\n",
        "                         in_axes=(0, 0))\n",
        "  return np.mean(vectorized_elbo(data, rngs))\n"
      ]
    },
    {
      "cell_type": "markdown",
      "metadata": {
        "id": "lOyXE8CCHNwT"
      },
      "source": [
        "**1.4) [0 points]** The below code trains a VAE where the encoder and decoder are both neural networks. The parameters are specified in the starter code.  You don't need to do anything here, this is just to help you debug."
      ]
    },
    {
      "cell_type": "code",
      "execution_count": null,
      "metadata": {
        "colab": {
          "base_uri": "https://localhost:8080/",
          "height": 406,
          "referenced_widgets": [
            "ebf78806c5504c6e886480e729d1ad84",
            "782fda4ad2764e2b82582928686d40e3",
            "b009340f365743bb86077bd7beb3abc8",
            "ca77de9887d14b7d872483a92c23c1ac",
            "65325873df8141f7a30c06771b4416e4",
            "9394a653b15d4830913b5dd02c011408",
            "5c683e45f9604dc9a5275da55c4b6d1b",
            "be32f45530f8415fbf2b57cd6cc5e63e",
            "b0c377621ccb4eeb97c3ca9260621702",
            "5568f018ea894d1d8dd05bcf6c7b7a68",
            "04200ac7fdbb40dca27df96ab60456ca"
          ]
        },
        "id": "OgGgHfUsmid6",
        "outputId": "1ce74032-1169-471c-8d23-9553f58a40cb"
      },
      "outputs": [
        {
          "output_type": "stream",
          "name": "stdout",
          "text": [
            "Optimizing variational parameters...\n"
          ]
        },
        {
          "output_type": "display_data",
          "data": {
            "text/plain": [
              "  0%|          | 0/2000 [00:00<?, ?it/s]"
            ],
            "application/vnd.jupyter.widget-view+json": {
              "version_major": 2,
              "version_minor": 0,
              "model_id": "ebf78806c5504c6e886480e729d1ad84"
            }
          },
          "metadata": {}
        },
        {
          "output_type": "stream",
          "name": "stdout",
          "text": [
            "Iteration 0 lower bound -53.33385467529297\n",
            "Iteration 100 lower bound -3.6101717948913574\n",
            "Iteration 200 lower bound -2.0128495693206787\n",
            "Iteration 300 lower bound -2.1108903884887695\n",
            "Iteration 400 lower bound -1.7522392272949219\n",
            "Iteration 500 lower bound -1.572933316230774\n",
            "Iteration 600 lower bound -1.5674941539764404\n",
            "Iteration 700 lower bound -1.5202080011367798\n",
            "Iteration 800 lower bound -1.4092899560928345\n",
            "Iteration 900 lower bound -1.403257966041565\n",
            "Iteration 1000 lower bound -1.2105753421783447\n",
            "Iteration 1100 lower bound -1.3555247783660889\n",
            "Iteration 1200 lower bound -1.066318154335022\n",
            "Iteration 1300 lower bound -1.2990782260894775\n",
            "Iteration 1400 lower bound -1.3205937147140503\n",
            "Iteration 1500 lower bound -1.2189953327178955\n",
            "Iteration 1600 lower bound -1.2963510751724243\n",
            "Iteration 1700 lower bound -1.1924402713775635\n",
            "Iteration 1800 lower bound -1.256577730178833\n",
            "Iteration 1900 lower bound -1.0875200033187866\n"
          ]
        }
      ],
      "source": [
        "# Define a VAE for the spiral dataset.\n",
        "\n",
        "data_dimension = 2\n",
        "latent_dimension = 2\n",
        "key = random.PRNGKey(0)\n",
        "\n",
        "# Define the recognition network.\n",
        "# We implement the functions as a split output of a 1-layer MLP\n",
        "# https://github.com/google/jax/blob/master/jax/experimental/README.md#neural-net-building-with-stax\n",
        "init_recognize, recognition_net = serial(\n",
        "    Dense(100), \n",
        "    Relu,\n",
        "    Dense(50), \n",
        "    Relu,\n",
        "    FanOut(2),\n",
        "    parallel(\n",
        "        Dense(latent_dimension),   # Output mean of q(z)\n",
        "        Dense(latent_dimension)    # Output log_std of q(z)\n",
        "        )\n",
        "    )\n",
        "_, init_recognition_params = init_recognize(rng, input_shape=(data_dimension,))\n",
        "\n",
        "# Define the decoder network.\n",
        "# Note that it has two outputs, a mean and a variance, because \n",
        "# this model has a Gaussian likelihood p(x|z).\n",
        "init_decoder, decoder = serial(\n",
        "    Dense(100), \n",
        "    Relu,\n",
        "    Dense(50), \n",
        "    Relu,\n",
        "    FanOut(2),\n",
        "    parallel(\n",
        "        Dense(data_dimension),    # Output mean of p(x|z)\n",
        "        Dense(data_dimension)     # Output log_std of p(x|z).\n",
        "        )\n",
        "    )\n",
        "_, init_decoder_params = init_decoder(rng, input_shape=(latent_dimension,))\n",
        "\n",
        "# Set up log likelihood function.\n",
        "def log_likelihood(decoder_params, latent, datapoint):\n",
        "  mean, log_std = decoder(decoder_params, latent)\n",
        "  return diag_gaussian_logpdf(datapoint, mean,\n",
        "                              np.log(0.1) + 0. * log_std)  # Note: we are cheating here and using a fixed noise variance to make optimization more stable.\n",
        "\n",
        "def log_joint(decoder_params, latent, datapoint):\n",
        "  return log_prior(latent) + log_likelihood(decoder_params, latent, datapoint)\n",
        "\n",
        "# Run optimization\n",
        "optimizer=optimizers.adam\n",
        "optimizer_kwargs=dict(step_size=1e-3)\n",
        "n_iters = 2000\n",
        "minibatch_size = 300\n",
        "\n",
        "opt_init, opt_update, get_params = optimizer(**optimizer_kwargs)\n",
        "opt_state = opt_init((init_recognition_params, init_decoder_params))\n",
        "\n",
        "def objective(params, t):  # The loss function to be minimized.\n",
        "  rng = random.PRNGKey(t)\n",
        "  minibatch_ixs = random.choice(rng, data.shape[0], (minibatch_size,))\n",
        "  minibatch = data[minibatch_ixs, :]\n",
        "  recognition_params, decoder_params = params\n",
        "  return -batch_elbo(\n",
        "    recognition_net,\n",
        "    log_joint,\n",
        "    recognition_params,  # a.k.a. phi\n",
        "    decoder_params,      # a.k.a. theta\n",
        "    minibatch,\n",
        "    rng)\n",
        "\n",
        "def callback(params, t):\n",
        "  if t % 100 == 0:\n",
        "    print(\"Iteration {} lower bound {}\".format(t, -objective(params, t)))\n",
        "\n",
        "@jit\n",
        "def update(i, opt_state):\n",
        "    params = get_params(opt_state) \n",
        "    gradient = grad(objective)(params, i)\n",
        "    return opt_update(i, gradient, opt_state)\n",
        "\n",
        "# Main loop.\n",
        "print(\"Optimizing variational parameters...\")\n",
        "for t in trange(0, n_iters):\n",
        "    opt_state = update(t, opt_state)\n",
        "    params = get_params(opt_state)\n",
        "    callback(params, t)\n",
        "\n",
        "recognition_params, decoder_params = params"
      ]
    },
    {
      "cell_type": "markdown",
      "metadata": {
        "id": "ItI3GUaJH2o7"
      },
      "source": [
        "1.5) [5 points] In this part, we visualize how the data looks like in the latent space. We simply use the trained recognition network (the encoder) to map each input to latent space.\n",
        "\n",
        "The result should look something like:\n",
        "\n",
        "![](https://drive.google.com/uc?id=1o1mlRp974jdDONZl8Gdz3FceqrMS--6E)"
      ]
    },
    {
      "cell_type": "code",
      "execution_count": null,
      "metadata": {
        "colab": {
          "background_save": true
        },
        "id": "u5GjmVm636GK"
      },
      "outputs": [],
      "source": [
        "# Show the means of the encoded data in a 2D latent space.\n",
        "# Don't worry if this doesn't look much like a Gaussian.\n",
        "\n",
        "for k in range(num_clusters):\n",
        "  cur_data = data[labels == k] # get all the data from this cluster.\n",
        "  transformed = recognition_net(recognition_params, cur_data)[0] # find the mean of q(z|x) for each x.\n",
        "  plt.scatter(transformed[:, 0], transformed[:, 1], s=2)\n",
        "\n",
        "plt.axis(\"equal\")\n",
        "plt.xlabel(\"latent dimension 1\")\n",
        "plt.xlabel(\"latent dimension 2\")"
      ]
    },
    {
      "cell_type": "markdown",
      "metadata": {
        "id": "FeSyYzKhINyK"
      },
      "source": [
        "**1.6) [5 points]** Using the decoder and the generative model we just trained, we can generate new data. For this, we simply generate 1000 latent variables in the latent space from the prior and pass it through the decoder network.\n",
        "\n",
        "You shouldn't expect this to match the data exactly, just to get the overall shape and number of clusters roughly correct.  Counterintuitively, the larger and richer MNIST data is easier to fit than this toy dataset.\n",
        "\n",
        "The result should look something like:\n",
        "\n",
        "![](https://drive.google.com/uc?id=1AI691z1q82-zwbLlBv1-4UiO08wwEifx)"
      ]
    },
    {
      "cell_type": "code",
      "execution_count": null,
      "metadata": {
        "colab": {
          "base_uri": "https://localhost:8080/",
          "height": 282
        },
        "id": "YYm4QeiGk_Jm",
        "outputId": "cf11b118-8bb8-4f4b-91dd-17fac4009ffc"
      },
      "outputs": [
        {
          "output_type": "execute_result",
          "data": {
            "text/plain": [
              "(-2.28639178276062, 1.5035400867462159, -1.897058469057083, 1.5913327753543853)"
            ]
          },
          "metadata": {},
          "execution_count": 7
        },
        {
          "output_type": "display_data",
          "data": {
            "text/plain": [
              "<Figure size 432x288 with 1 Axes>"
            ],
            "image/png": "[encoded data removed]"
          },
          "metadata": {
            "needs_background": "light"
          }
        }
      ],
      "source": [
        "# Sample data from the trained generative model to see if it\n",
        "# roughly matches the data.  # Note: This doesn't add the likelihood noise,\n",
        "# although it should if we want it to match the data.\n",
        "\n",
        "num_samples = 1000\n",
        "samples = random.normal(key, (num_samples, 2)) # not TODO\n",
        "transformed = decoder(decoder_params, samples)[0] # not TODO\n",
        "plt.scatter(transformed[:, 0], transformed[:, 1], s=2)\n",
        "plt.axis(\"equal\")"
      ]
    },
    {
      "cell_type": "markdown",
      "metadata": {
        "id": "Z3ndLm3JggYd"
      },
      "source": [
        "**1.7) [0 points]** Here's a debugging tool only available when both the latent space and the data are both 2-dimensional.  We can show the function being learned by the encoder by showing how it warps a 2D grid into the latent space."
      ]
    },
    {
      "cell_type": "code",
      "execution_count": null,
      "metadata": {
        "colab": {
          "base_uri": "https://localhost:8080/",
          "height": 265
        },
        "id": "UgdwiGrpsHRP",
        "outputId": "64ba707e-297d-40de-d7f2-e6a5c0365e58"
      },
      "outputs": [
        {
          "output_type": "display_data",
          "data": {
            "text/plain": [
              "<Figure size 432x288 with 1 Axes>"
            ],
            "image/png": "[encoded data removed]"
          },
          "metadata": {
            "needs_background": "light"
          }
        }
      ],
      "source": [
        "\n",
        "from matplotlib.collections import LineCollection\n",
        "\n",
        "def plot_grid(x,y, ax=None, **kwargs):\n",
        "    ax = ax or plt.gca()\n",
        "    segs1 = np.stack((x,y), axis=2)\n",
        "    segs2 = segs1.transpose(1,0,2)\n",
        "    ax.add_collection(LineCollection(segs1, **kwargs))\n",
        "    ax.add_collection(LineCollection(segs2, **kwargs))\n",
        "    ax.autoscale()\n",
        "\n",
        "def f(x,y):\n",
        "  return decoder(decoder_params, np.array([x, y]))\n",
        "f = vmap(f, in_axes=(0,0))\n",
        "f = vmap(f, in_axes=(0,0))\n",
        "\n",
        "fig, ax = plt.subplots()\n",
        "\n",
        "grid_x,grid_y = np.meshgrid(np.linspace(-3,3,20),np.linspace(-3,3,20))\n",
        "plot_grid(grid_x,grid_y, ax=ax,  color=\"lightgrey\")\n",
        "\n",
        "distx, disty = f(grid_x,grid_y)\n",
        "plot_grid(distx[:, :, 0], distx[:, :, 1], ax=ax, color=\"C0\")\n",
        "\n",
        "plt.show()"
      ]
    },
    {
      "cell_type": "markdown",
      "metadata": {
        "id": "qX7XKlJLgqFz"
      },
      "source": [
        "**1.8) [0 points]** Here, we show the function being learned by the decoder by showing how it warps a 2D grid into the observed space.\n",
        "\n"
      ]
    },
    {
      "cell_type": "code",
      "execution_count": null,
      "metadata": {
        "colab": {
          "base_uri": "https://localhost:8080/",
          "height": 265
        },
        "id": "DqkriclvSsaN",
        "outputId": "008d0b13-d094-435d-ea79-3934afb84ae4"
      },
      "outputs": [
        {
          "output_type": "display_data",
          "data": {
            "text/plain": [
              "<Figure size 432x288 with 1 Axes>"
            ],
            "image/png": "[encoded data removed]"
          },
          "metadata": {
            "needs_background": "light"
          }
        }
      ],
      "source": [
        "def f(x,y):\n",
        "  return recognition_net(recognition_params, np.array([x, y]))\n",
        "f = vmap(f, in_axes=(0,0))\n",
        "f = vmap(f, in_axes=(0,0))\n",
        "\n",
        "fig, ax = plt.subplots()\n",
        "\n",
        "grid_x,grid_y = np.meshgrid(np.linspace(-3,3,20),np.linspace(-3,3,20))\n",
        "plot_grid(grid_x,grid_y, ax=ax,  color=\"lightgrey\")\n",
        "\n",
        "distx, disty = f(grid_x,grid_y)\n",
        "plot_grid(distx[:, :, 0], distx[:, :, 1], ax=ax, color=\"C0\")\n",
        "\n",
        "plt.show()"
      ]
    },
    {
      "cell_type": "markdown",
      "metadata": {
        "id": "ItRbxaGrXNDI"
      },
      "source": [
        "# Question 2 - 45 points\n",
        "\n",
        "In this question, we will implement and investigate the Variational Autoencoder on binarized MNIST digits, as introduced by the paper [Auto-Encoding Variational Bayes](https://arxiv.org/pdf/1312.6114.pdf) by Kingma and Welling (2013).\n",
        "\n",
        "\n",
        "**MNIST data**: Each datapoint in the [MNIST dataset](http://yann.lecun.com/exdb/mnist/) is a 28x28 grayscale image (i.e. pixels are values between 0 and 1) of a handwritten digit in $\\{0 \\dots 9\\}$, and a label indicating which number.\n",
        "\n",
        "The below code contains a function that downloads the MNIST data set and another one that can plot multiple images.\n"
      ]
    },
    {
      "cell_type": "code",
      "execution_count": null,
      "metadata": {
        "colab": {
          "base_uri": "https://localhost:8080/",
          "height": 178
        },
        "id": "_KvgdSxIXSP4",
        "outputId": "bca06b26-1569-4f50-eee8-f5d744276fcc"
      },
      "outputs": [
        {
          "output_type": "display_data",
          "data": {
            "text/plain": [
              "<Figure size 432x288 with 1 Axes>"
            ],
            "image/png": "[encoded data removed]"
          },
          "metadata": {}
        }
      ],
      "source": [
        "# Load MNIST data\n",
        "import os\n",
        "import gzip\n",
        "import struct\n",
        "import array\n",
        "import matplotlib.image\n",
        "from urllib.request import urlretrieve\n",
        "\n",
        "def download(url, filename):\n",
        "    if not os.path.exists('data'):\n",
        "        os.makedirs('data')\n",
        "    out_file = os.path.join('data', filename)\n",
        "    if not os.path.isfile(out_file):\n",
        "        urlretrieve(url, out_file)\n",
        "\n",
        "\n",
        "def mnist():\n",
        "    base_url = 'http://yann.lecun.com/exdb/mnist/'\n",
        "\n",
        "    def parse_labels(filename):\n",
        "        with gzip.open(filename, 'rb') as fh:\n",
        "            magic, num_data = struct.unpack(\">II\", fh.read(8))\n",
        "            return np.array(array.array(\"B\", fh.read()), dtype=np.uint8)\n",
        "\n",
        "    def parse_images(filename):\n",
        "        with gzip.open(filename, 'rb') as fh:\n",
        "            magic, num_data, rows, cols = struct.unpack(\">IIII\", fh.read(16))\n",
        "            return np.array(array.array(\"B\", fh.read()), dtype=np.uint8).reshape(num_data, rows, cols)\n",
        "\n",
        "    for filename in ['train-images-idx3-ubyte.gz',\n",
        "                     'train-labels-idx1-ubyte.gz',\n",
        "                     't10k-images-idx3-ubyte.gz',\n",
        "                     't10k-labels-idx1-ubyte.gz']:\n",
        "        download(base_url + filename, filename)\n",
        "\n",
        "    train_images = parse_images('data/train-images-idx3-ubyte.gz')\n",
        "    train_labels = parse_labels('data/train-labels-idx1-ubyte.gz')\n",
        "    test_images = parse_images('data/t10k-images-idx3-ubyte.gz')\n",
        "    test_labels = parse_labels('data/t10k-labels-idx1-ubyte.gz')\n",
        "\n",
        "    return train_images, train_labels, test_images[:1000], test_labels[:1000]\n",
        "\n",
        "\n",
        "def load_mnist():\n",
        "    partial_flatten = lambda x: np.reshape(x, (x.shape[0], np.prod(np.array(x.shape[1:]))))\n",
        "    one_hot = lambda x, k: np.array(x[:, None] == np.arange(k)[None, :], dtype=int)\n",
        "    train_images, train_labels, test_images, test_labels = mnist()\n",
        "    train_images = (partial_flatten(train_images) / 255.0 > .5).astype(float)\n",
        "    test_images = (partial_flatten(test_images) / 255.0 > .5).astype(float)\n",
        "    train_labels = one_hot(train_labels, 10)\n",
        "    test_labels = one_hot(test_labels, 10)\n",
        "    N_data = train_images.shape[0]\n",
        "\n",
        "    return N_data, train_images, train_labels, test_images, test_labels\n",
        "\n",
        "N_data, train_images, train_labels, test_images, test_labels = load_mnist()\n",
        "\n",
        "import numpy as onp\n",
        "def plot_images(images, ims_per_row=5, padding=5, digit_dimensions=(28, 28),\n",
        "                cmap=matplotlib.cm.binary, vmin=0., vmax=1.):\n",
        "    \"\"\"Images should be a (N_images x pixels) matrix.\"\"\"\n",
        "    fig = plt.figure(1)\n",
        "    fig.clf()\n",
        "    ax = fig.add_subplot(111)\n",
        "\n",
        "    N_images = images.shape[0]\n",
        "    N_rows = onp.int32(onp.ceil(float(N_images) / ims_per_row))\n",
        "    pad_value = vmin\n",
        "    concat_images = onp.full(((digit_dimensions[0] + padding) * N_rows + padding,\n",
        "                             (digit_dimensions[1] + padding) * ims_per_row + padding), pad_value)\n",
        "    for i in range(N_images):\n",
        "        cur_image = np.reshape(images[i, :], digit_dimensions)\n",
        "        row_ix = i // ims_per_row\n",
        "        col_ix = i % ims_per_row\n",
        "        row_start = padding + (padding + digit_dimensions[0]) * row_ix\n",
        "        col_start = padding + (padding + digit_dimensions[1]) * col_ix\n",
        "        concat_images[row_start: row_start + digit_dimensions[0],\n",
        "                      col_start: col_start + digit_dimensions[1]] = cur_image\n",
        "        cax = ax.matshow(concat_images, cmap=cmap, vmin=vmin, vmax=vmax)\n",
        "        plt.xticks(onp.array([]))\n",
        "        plt.yticks(onp.array([]))\n",
        "    \n",
        "    plt.plot()\n",
        "\n",
        "plot_images(train_images[:10, :])"
      ]
    },
    {
      "cell_type": "markdown",
      "metadata": {
        "id": "CuU3ftS4Fl-5"
      },
      "source": [
        "**2.1) [20 pts]** The model is as follows.\n",
        "\n",
        "\n",
        "*   **Prior:** The prior over each digit's latent representation is a multivariate standard normal distribution. For all questions, we'll set the dimension of the latent space to 2.\n",
        "A larger latent dimension would provide a more powerful model, but for this assignment we'll use a two-dimensional latent space to make visualization and debugging easier.\n",
        "\n",
        "\n",
        "*   **Likelihood:** Given the latent representation $z$ for an image, the distribution over all 784 pixels in the image is given by a product of independent Bernoullis, whose means are given by the output of a neural network $f_\\theta(z)$:\n",
        "$$p(x|z, \\theta) = \\prod_{d=1}^{784} \\operatorname{Ber}(x_d|f_\\theta(z)_d)$$\n",
        "The neural network $f_\\theta$ is called the decoder, and its parameters $\\theta$ will be optimized to fit the data.\n",
        "\n",
        "Implement the missing lines in the below code, to complete\n",
        "the functions:\n",
        "1.   $\\texttt{log_likelihood}$: Log-likelihood of the above model.\n",
        "2.   $\\texttt{log_joint}$: Joint log-likelihood of data and latent variables.\n",
        "3.   $\\texttt{objective}$: You will use the elbo function you wrote in the previous question.\n",
        "\n",
        "Report the final ELBO. "
      ]
    },
    {
      "cell_type": "code",
      "execution_count": null,
      "metadata": {
        "colab": {
          "base_uri": "https://localhost:8080/",
          "height": 916,
          "referenced_widgets": [
            "898f2251e4234060a82a1a7caadbb178",
            "39dbc6c5ef2e499ca8f7226a0a8afed5",
            "74994504975c47b9b060c0f62ec268d7",
            "c3fac65450ca4d21aae8262be3e9ed04",
            "0f3d40ea24d045adaceda49689adf13c",
            "ba5eb57c0e77474babfa8b0ca8c15e61",
            "2a13c1b1029949a8aee0d8840b0ebff4",
            "22979f742bf34fda95745f6280d1611e",
            "61f173e8f7ee4814a7769d85d036a8cc",
            "c5d9f6f529a844748aa894e457e76538",
            "46ccab1518cd4fdb8bb15cf0c3a8510a"
          ]
        },
        "id": "enYQZKWebwFy",
        "outputId": "0359f7b3-bda8-4b17-9e84-6d28155e4f80"
      },
      "outputs": [
        {
          "output_type": "stream",
          "name": "stdout",
          "text": [
            "Optimizing variational parameters...\n"
          ]
        },
        {
          "output_type": "display_data",
          "data": {
            "text/plain": [
              "  0%|          | 0/5000 [00:00<?, ?it/s]"
            ],
            "application/vnd.jupyter.widget-view+json": {
              "version_major": 2,
              "version_minor": 0,
              "model_id": "898f2251e4234060a82a1a7caadbb178"
            }
          },
          "metadata": {}
        },
        {
          "output_type": "stream",
          "name": "stdout",
          "text": [
            "Iteration 0 lower bound -524.9828491210938\n",
            "Iteration 100 lower bound -180.47645568847656\n",
            "Iteration 200 lower bound -169.70123291015625\n",
            "Iteration 300 lower bound -162.76475524902344\n",
            "Iteration 400 lower bound -165.68527221679688\n",
            "Iteration 500 lower bound -157.0092010498047\n",
            "Iteration 600 lower bound -151.02748107910156\n",
            "Iteration 700 lower bound -156.9091796875\n",
            "Iteration 800 lower bound -150.623046875\n",
            "Iteration 900 lower bound -151.49261474609375\n",
            "Iteration 1000 lower bound -153.4732208251953\n",
            "Iteration 1100 lower bound -152.65196228027344\n",
            "Iteration 1200 lower bound -149.03884887695312\n",
            "Iteration 1300 lower bound -150.69020080566406\n",
            "Iteration 1400 lower bound -149.90489196777344\n",
            "Iteration 1500 lower bound -151.2306365966797\n",
            "Iteration 1600 lower bound -151.78085327148438\n",
            "Iteration 1700 lower bound -152.15139770507812\n",
            "Iteration 1800 lower bound -149.27825927734375\n",
            "Iteration 1900 lower bound -149.61790466308594\n",
            "Iteration 2000 lower bound -151.7099609375\n",
            "Iteration 2100 lower bound -145.91526794433594\n",
            "Iteration 2200 lower bound -146.5099639892578\n",
            "Iteration 2300 lower bound -149.84146118164062\n",
            "Iteration 2400 lower bound -143.38929748535156\n",
            "Iteration 2500 lower bound -140.84945678710938\n",
            "Iteration 2600 lower bound -148.28558349609375\n",
            "Iteration 2700 lower bound -148.75570678710938\n",
            "Iteration 2800 lower bound -152.42689514160156\n",
            "Iteration 2900 lower bound -142.3258056640625\n",
            "Iteration 3000 lower bound -148.7921600341797\n",
            "Iteration 3100 lower bound -136.32786560058594\n",
            "Iteration 3200 lower bound -142.6756134033203\n",
            "Iteration 3300 lower bound -140.4719696044922\n",
            "Iteration 3400 lower bound -151.53765869140625\n",
            "Iteration 3500 lower bound -144.4987335205078\n",
            "Iteration 3600 lower bound -145.20376586914062\n",
            "Iteration 3700 lower bound -143.7354278564453\n",
            "Iteration 3800 lower bound -146.37294006347656\n",
            "Iteration 3900 lower bound -141.13059997558594\n",
            "Iteration 4000 lower bound -152.30979919433594\n",
            "Iteration 4100 lower bound -141.32159423828125\n",
            "Iteration 4200 lower bound -149.59979248046875\n",
            "Iteration 4300 lower bound -138.01739501953125\n",
            "Iteration 4400 lower bound -143.841552734375\n",
            "Iteration 4500 lower bound -151.07431030273438\n",
            "Iteration 4600 lower bound -143.9822998046875\n",
            "Iteration 4700 lower bound -143.50894165039062\n",
            "Iteration 4800 lower bound -151.18612670898438\n",
            "Iteration 4900 lower bound -147.51712036132812\n"
          ]
        }
      ],
      "source": [
        "# Define a specific VAE for MNIST\n",
        "\n",
        "data_dimension = 28*28\n",
        "latent_dimension = 2\n",
        "key = random.PRNGKey(0)\n",
        "\n",
        "# Define the recognition network.\n",
        "# We implement the functions as a split output of a 1-layer MLP\n",
        "# https://github.com/google/jax/blob/master/jax/experimental/README.md#neural-net-building-with-stax\n",
        "init_recognize, recognition_net = serial(\n",
        "    Dense(150),\n",
        "    Relu,\n",
        "    Dense(50),\n",
        "    Relu,\n",
        "    FanOut(2),\n",
        "    parallel(\n",
        "        Dense(latent_dimension),   # Output mean of q(z)\n",
        "        Dense(latent_dimension)    # Output log_std of q(z)\n",
        "        )\n",
        "    )\n",
        "_, init_recognition_params = init_recognize(rng, input_shape=(data_dimension,))  # What is the input dimension of the encoder?\n",
        "\n",
        "\n",
        "# Define the decoder network.\n",
        "init_decoder, decoder = serial(\n",
        "    Dense(150),\n",
        "    Relu,\n",
        "    Dense(50),\n",
        "    Relu,\n",
        "    Dense(data_dimension),    # Output logit of Ber(x|z)\n",
        ")\n",
        "_, init_decoder_params = init_decoder(rng, input_shape=(latent_dimension,))      # What is the input dimension of the decoder?\n",
        "\n",
        "\n",
        "# Set up log likelihood function.\n",
        "def bernoulli_logpdf(logits, x):\n",
        "  \"\"\"Bernoulli log pdf of data x given logits.\"\"\"\n",
        "  return -np.sum(np.logaddexp(0., np.where(x, -1., 1.) * logits))\n",
        "\n",
        "def log_likelihood(decoder_params, latent, datapoint): # not TODO\n",
        "  logits = decoder(decoder_params, latent)\n",
        "  return bernoulli_logpdf(logits, datapoint)\n",
        "\n",
        "def log_joint(decoder_params, latent, datapoint): # not TODO\n",
        "  return log_prior(latent) + log_likelihood(decoder_params, latent, datapoint)\n",
        "\n",
        "# Run optimization\n",
        "optimizer=optimizers.adam\n",
        "optimizer_kwargs=dict(step_size=1e-2)\n",
        "n_iters = 5000\n",
        "minibatch_size = 200\n",
        "\n",
        "opt_init, opt_update, get_params = optimizer(**optimizer_kwargs)\n",
        "opt_state = opt_init((init_recognition_params, init_decoder_params))\n",
        "\n",
        "def objective(params, t):  # The loss function to be minimized.  \n",
        "  rng = random.PRNGKey(t)\n",
        "  minibatch_ixs = random.choice(rng, train_images.shape[0], (minibatch_size,))\n",
        "  minibatch = train_images[minibatch_ixs, :] # not TODO\n",
        "  recognition_params, decoder_params = params # not TODO\n",
        "  return -batch_elbo(\n",
        "    recognition_net,\n",
        "    log_joint,\n",
        "    recognition_params,  # a.k.a. phi\n",
        "    decoder_params,      # a.k.a. theta\n",
        "    minibatch,\n",
        "    rng) # not TODO\n",
        "\n",
        "def callback(params, t):\n",
        "  if t % 100 == 0:\n",
        "    print(\"Iteration {} lower bound {}\".format(t, -objective(params, t)))\n",
        "\n",
        "@jit\n",
        "def update(i, opt_state):\n",
        "    params = get_params(opt_state) \n",
        "    gradient = grad(objective)(params, i)\n",
        "    return opt_update(i, gradient, opt_state)\n",
        "\n",
        "# Main loop.\n",
        "print(\"Optimizing variational parameters...\")\n",
        "for t in trange(0, n_iters):\n",
        "    opt_state = update(t, opt_state)\n",
        "    params = get_params(opt_state)\n",
        "    callback(params, t)\n",
        "\n",
        "recognition_params, decoder_params = params"
      ]
    },
    {
      "cell_type": "markdown",
      "metadata": {
        "id": "_4D_ldpaGldW"
      },
      "source": [
        "**2.2) [5pts]** In what follows, we will investigate our model by visualizing the distribution over data given by the generative model, sampling from it, and interpolating between digits.\n",
        "\n",
        "One way to understand the meaning of latent representations is to see which parts of the latent space correspond to which kinds of data. Here we'll produce a scatter plot in the latent space, where each point in the plot represents a different image in the training set.\n",
        "\n",
        "Implement the missing lines in the below code, to plot the transformed data points in the latent space.\n",
        "\n",
        "\n",
        "\n",
        "1.   Encode each image in the training set.\n",
        "2.   Take the 2D mean vector of each encoding $q_\\phi(z|x)$.\n",
        "3.   Plot these mean vectors in the 2D latent space with a scatterplot.\n",
        "4.   Colour each point according to the class label (0 to 9).\n",
        "\n",
        "\n",
        "Hopefully our latent space will group images of different classes, even though we never provided class labels to the model!\n",
        "\n",
        "\n",
        "\n"
      ]
    },
    {
      "cell_type": "code",
      "execution_count": null,
      "metadata": {
        "colab": {
          "base_uri": "https://localhost:8080/",
          "height": 336
        },
        "id": "MReco_Jje8LE",
        "outputId": "fc9f237a-39f6-4368-f4ba-b74b14933637"
      },
      "outputs": [
        {
          "output_type": "execute_result",
          "data": {
            "text/plain": [
              "(-3.9391932487487793,\n",
              " 3.3436636924743652,\n",
              " -6.463786101341247,\n",
              " 4.059707140922546)"
            ]
          },
          "metadata": {},
          "execution_count": 12
        },
        {
          "output_type": "display_data",
          "data": {
            "text/plain": [
              "<Figure size 432x288 with 1 Axes>"
            ],
            "image/png": "[encoded data removed]"
          },
          "metadata": {
            "needs_background": "light"
          }
        }
      ],
      "source": [
        "for k in range(10):\n",
        "  cur_data = train_images[train_labels[:, k] == True, :]\n",
        "  transformed = recognition_net(recognition_params, cur_data)[0] # Call recognition net and extract mean\n",
        "  plt.scatter(transformed[:, 0], transformed[:, 1], s=2)\n",
        "\n",
        "plt.axis(\"equal\")"
      ]
    },
    {
      "cell_type": "markdown",
      "metadata": {
        "id": "omqkiyxKRfRU"
      },
      "source": [
        "2.3) [10 pts] Now we'll fit a model with a larger latent space.  We won't be able to visualize this model as easily, but it should be able to fit the data better.  Set latent_dimension to 20 and re-fit the model.  You should be able to get a much better ELBO using this larger model."
      ]
    },
    {
      "cell_type": "code",
      "execution_count": null,
      "metadata": {
        "colab": {
          "base_uri": "https://localhost:8080/",
          "height": 1000,
          "referenced_widgets": [
            "7e3896e9588c497d975908360fabb3ff",
            "6fd6b094e9bd438c846f9aae9f0ee854",
            "35767a2b807a481281856af025156ce1",
            "4bc5702c8de7425290f6fd5bed6d7de4",
            "bce36d34a31c44cd9a9a962e8f3d9035",
            "9d8a6cc061d44dd4ac180120a0a5e2c3",
            "af652083432a4b38a5f8eeb36270724f",
            "76d40861eec34b608b1c8ca18aec5359",
            "45882e6accc448708386530986f053df",
            "676aa3828b334f4381c1188ce1dc67ca",
            "8b2369ad59e24cbbb26fe70bee4fdf63"
          ]
        },
        "id": "bydpfpEjRnUL",
        "outputId": "14f1db53-5e25-43ab-e79f-e4d16bc85c5a"
      },
      "outputs": [
        {
          "output_type": "stream",
          "name": "stdout",
          "text": [
            "Optimizing variational parameters...\n"
          ]
        },
        {
          "output_type": "display_data",
          "data": {
            "text/plain": [
              "  0%|          | 0/5000 [00:00<?, ?it/s]"
            ],
            "application/vnd.jupyter.widget-view+json": {
              "version_major": 2,
              "version_minor": 0,
              "model_id": "7e3896e9588c497d975908360fabb3ff"
            }
          },
          "metadata": {}
        },
        {
          "output_type": "stream",
          "name": "stdout",
          "text": [
            "Iteration 0 lower bound -527.3514404296875\n",
            "Iteration 100 lower bound -187.71473693847656\n",
            "Iteration 200 lower bound -172.8032989501953\n",
            "Iteration 300 lower bound -154.9191131591797\n",
            "Iteration 400 lower bound -152.0480194091797\n",
            "Iteration 500 lower bound -144.30670166015625\n",
            "Iteration 600 lower bound -139.08685302734375\n",
            "Iteration 700 lower bound -141.570556640625\n",
            "Iteration 800 lower bound -134.04736328125\n",
            "Iteration 900 lower bound -130.72854614257812\n",
            "Iteration 1000 lower bound -134.20681762695312\n",
            "Iteration 1100 lower bound -133.75245666503906\n",
            "Iteration 1200 lower bound -130.17559814453125\n",
            "Iteration 1300 lower bound -132.40609741210938\n",
            "Iteration 1400 lower bound -129.75186157226562\n",
            "Iteration 1500 lower bound -128.92996215820312\n",
            "Iteration 1600 lower bound -130.63845825195312\n",
            "Iteration 1700 lower bound -133.4053497314453\n",
            "Iteration 1800 lower bound -130.03375244140625\n",
            "Iteration 1900 lower bound -129.3917694091797\n",
            "Iteration 2000 lower bound -132.24729919433594\n",
            "Iteration 2100 lower bound -124.3398208618164\n",
            "Iteration 2200 lower bound -129.05645751953125\n",
            "Iteration 2300 lower bound -131.93777465820312\n",
            "Iteration 2400 lower bound -125.37993621826172\n",
            "Iteration 2500 lower bound -120.29181671142578\n",
            "Iteration 2600 lower bound -128.47418212890625\n",
            "Iteration 2700 lower bound -125.82511138916016\n",
            "Iteration 2800 lower bound -128.1325225830078\n",
            "Iteration 2900 lower bound -126.37964630126953\n",
            "Iteration 3000 lower bound -129.07591247558594\n",
            "Iteration 3100 lower bound -119.94364929199219\n",
            "Iteration 3200 lower bound -124.24540710449219\n",
            "Iteration 3300 lower bound -123.4174575805664\n",
            "Iteration 3400 lower bound -131.00755310058594\n",
            "Iteration 3500 lower bound -125.35309600830078\n",
            "Iteration 3600 lower bound -126.68896484375\n",
            "Iteration 3700 lower bound -122.9002685546875\n",
            "Iteration 3800 lower bound -122.23692321777344\n",
            "Iteration 3900 lower bound -122.68394470214844\n",
            "Iteration 4000 lower bound -133.38760375976562\n",
            "Iteration 4100 lower bound -121.30189514160156\n",
            "Iteration 4200 lower bound -131.24386596679688\n",
            "Iteration 4300 lower bound -121.74867248535156\n",
            "Iteration 4400 lower bound -125.35775756835938\n",
            "Iteration 4500 lower bound -133.87161254882812\n",
            "Iteration 4600 lower bound -125.54159545898438\n",
            "Iteration 4700 lower bound -122.05136108398438\n",
            "Iteration 4800 lower bound -130.81471252441406\n",
            "Iteration 4900 lower bound -124.64391326904297\n"
          ]
        },
        {
          "output_type": "execute_result",
          "data": {
            "text/plain": [
              "(-0.1611282132565975,\n",
              " 0.22900692149996757,\n",
              " -0.25006631314754485,\n",
              " 0.2416678100824356)"
            ]
          },
          "metadata": {},
          "execution_count": 13
        },
        {
          "output_type": "display_data",
          "data": {
            "text/plain": [
              "<Figure size 432x288 with 1 Axes>"
            ],
            "image/png": "[encoded data removed]"
          },
          "metadata": {
            "needs_background": "light"
          }
        }
      ],
      "source": [
        "# TODO: Train the same model as above but with\n",
        "# latent_dimension = 20\n",
        "# Feel free to copy code from above.\n",
        "\n",
        "# ==========================================\n",
        "\n",
        "data_dimension = 28*28\n",
        "latent_dimension = 20\n",
        "key = random.PRNGKey(0)\n",
        "\n",
        "# Define the recognition network.\n",
        "# We implement the functions as a split output of a 1-layer MLP\n",
        "# https://github.com/google/jax/blob/master/jax/experimental/README.md#neural-net-building-with-stax\n",
        "init_recognize, recognition_net = serial(\n",
        "    Dense(150),\n",
        "    Relu,\n",
        "    Dense(50),\n",
        "    Relu,\n",
        "    FanOut(2),\n",
        "    parallel(\n",
        "        Dense(latent_dimension),   # Output mean of q(z)\n",
        "        Dense(latent_dimension)    # Output log_std of q(z)\n",
        "        )\n",
        "    )\n",
        "_, init_recognition_params = init_recognize(rng, input_shape=(data_dimension,))  # What is the input dimension of the encoder?\n",
        "\n",
        "\n",
        "# Define the decoder network.\n",
        "init_decoder, decoder = serial(\n",
        "    Dense(150),\n",
        "    Relu,\n",
        "    Dense(50),\n",
        "    Relu,\n",
        "    Dense(data_dimension),    # Output logit of Ber(x|z)\n",
        ")\n",
        "_, init_decoder_params = init_decoder(rng, input_shape=(latent_dimension,))      # What is the input dimension of the decoder?\n",
        "\n",
        "\n",
        "# Set up log likelihood function.\n",
        "def bernoulli_logpdf(logits, x):\n",
        "  \"\"\"Bernoulli log pdf of data x given logits.\"\"\"\n",
        "  return -np.sum(np.logaddexp(0., np.where(x, -1., 1.) * logits))\n",
        "\n",
        "def log_likelihood(decoder_params, latent, datapoint): # not TODO\n",
        "  logits = decoder(decoder_params, latent)\n",
        "  return bernoulli_logpdf(logits, datapoint)\n",
        "\n",
        "def log_joint(decoder_params, latent, datapoint): # not TODO\n",
        "  return log_prior(latent) + log_likelihood(decoder_params, latent, datapoint)\n",
        "\n",
        "# Run optimization\n",
        "optimizer=optimizers.adam\n",
        "optimizer_kwargs=dict(step_size=1e-2)\n",
        "n_iters = 5000\n",
        "minibatch_size = 200\n",
        "\n",
        "opt_init, opt_update, get_params = optimizer(**optimizer_kwargs)\n",
        "opt_state = opt_init((init_recognition_params, init_decoder_params))\n",
        "\n",
        "def objective(params, t):  # The loss function to be minimized.  \n",
        "  rng = random.PRNGKey(t)\n",
        "  minibatch_ixs = random.choice(rng, train_images.shape[0], (minibatch_size,))\n",
        "  minibatch = train_images[minibatch_ixs, :] # not TODO\n",
        "  recognition_params, decoder_params = params # not TODO\n",
        "  return -batch_elbo(\n",
        "    recognition_net,\n",
        "    log_joint,\n",
        "    recognition_params,  # a.k.a. phi\n",
        "    decoder_params,      # a.k.a. theta\n",
        "    minibatch,\n",
        "    rng) # not TODO\n",
        "\n",
        "def callback(params, t):\n",
        "  if t % 100 == 0:\n",
        "    print(\"Iteration {} lower bound {}\".format(t, -objective(params, t)))\n",
        "\n",
        "@jit\n",
        "def update(i, opt_state):\n",
        "    params = get_params(opt_state) \n",
        "    gradient = grad(objective)(params, i)\n",
        "    return opt_update(i, gradient, opt_state)\n",
        "\n",
        "# Main loop.\n",
        "print(\"Optimizing variational parameters...\")\n",
        "for t in trange(0, n_iters):\n",
        "    opt_state = update(t, opt_state)\n",
        "    params = get_params(opt_state)\n",
        "    callback(params, t)\n",
        "\n",
        "recognition_params, decoder_params = params\n",
        "\n",
        "for k in range(10):\n",
        "  cur_data = train_images[train_labels[:, k] == True, :]\n",
        "  transformed = recognition_net(recognition_params, cur_data)[0] # Call recognition net and extract mean\n",
        "  plt.scatter(transformed[:, 0], transformed[:, 1], s=2)\n",
        "\n",
        "plt.axis(\"equal\")"
      ]
    },
    {
      "cell_type": "markdown",
      "metadata": {
        "id": "Dk0GjGNOHEXc"
      },
      "source": [
        "**2.4) [5pts]** Implement the missing lines in the below code, to plot the transformed data points in the latent space.\n",
        "\n",
        "You will be using ancestral sampling:\t\n",
        "\n",
        "1.   First sample a z from the prior.\n",
        "2.   Use the generative model to compute the bernoulli means over the pixels of $x$ given $z$. \n",
        "3.   Plot these means (parameters) as a greyscale image.\n",
        "\n",
        "Do this for 25 samples z from the prior."
      ]
    },
    {
      "cell_type": "code",
      "execution_count": null,
      "metadata": {
        "colab": {
          "base_uri": "https://localhost:8080/",
          "height": 255
        },
        "id": "mYkNjM1Ufq9s",
        "outputId": "c6cd3938-9bfd-4b21-d421-34012a587ed3"
      },
      "outputs": [
        {
          "output_type": "display_data",
          "data": {
            "text/plain": [
              "<Figure size 432x288 with 1 Axes>"
            ],
            "image/png": "[encoded data removed]"
          },
          "metadata": {}
        }
      ],
      "source": [
        "# Sample data from the trained generative model to see if it\n",
        "# roughly matches the data.\n",
        "\n",
        "def sigmoid(x):\n",
        "  # Maps logits to probabilities.\n",
        "  return 0.5 * (np.tanh(x) + 1.0)\n",
        "\n",
        "recognition_params, decoder_params = params\n",
        "\n",
        "sampled_zs = diag_gaussian_sample(rng, recognition_net(recognition_params, \\\n",
        "                                                       train_images)[0], \\\n",
        "                                  recognition_net(recognition_params, \\\n",
        "                                                  train_images)[1])[:25]  # Sample from prior on z.\n",
        "vdecoder = vmap(decoder, in_axes=(None, 0))\n",
        "bernoulli_means = sigmoid(vdecoder(decoder_params, sampled_zs)) # Call decoder, and map logits to probabilities.\n",
        "plot_images(bernoulli_means)"
      ]
    },
    {
      "cell_type": "markdown",
      "metadata": {
        "id": "T_TLbol-Yrb2"
      },
      "source": [
        "**2.5) [5pts]** Another way to examine a latent variable model with continuous latent variables is to interpolate between the latent representations of two points. Here we will encode 3 pairs of data points with different classes. Then we will linearly interpolate between the mean vectors of their encodings. We will plot the generative distributions along the linear interpolation.\n",
        "\n",
        "\n",
        "1.   First, write a function which takes two points $z_a$ and $z_b$, and a value $\\alpha \\in [0,1]$, and outputs the linear interpolation $z_\\alpha = \\alpha z_a + (1-\\alpha)z_b$.\n",
        "2.  Sample 3 pairs of images, each having a different class.\n",
        "3.  Encode the data in each pair, and take the mean vectors\n",
        "4.  Linearly interpolate between these mean vectors\n",
        "5.  At 10 equally-space points along the interpolation, plot the Bernoulli means $p(x|z_\\alpha)$.\n",
        "6.  Concatenate these plots into one figure."
      ]
    },
    {
      "cell_type": "code",
      "execution_count": null,
      "metadata": {
        "id": "1Wt6FylTfygq"
      },
      "outputs": [],
      "source": [
        "def linear_interpolate(z_a, z_b, alpha):\n",
        "    # assume 0 <= alpha <= 1\n",
        "    return alpha * z_a + (1-alpha) * z_b # if 0 <= alpha <= 1 else z_a\n",
        "\n",
        "# sample 3 pairs of images, each different class\n",
        "pair_1 = [train_images[:,1], train_images[:,2], train_images[:,15]]\n",
        "pair_2 = [train_images[:,4], train_images[:,3], train_images[:,2]] \n",
        "\n",
        "def plot_interp(ix1, ix2):\n",
        "  left_z = recognition_net(recognition_params, train_images[ix1, :])[0]\n",
        "  right_z = recognition_net(recognition_params, train_images[ix2, :])[0]\n",
        "  interp_weights = list(np.linspace(0.0, 1.0, 10))\n",
        "\n",
        "  bernoulli_means = np.array([])\n",
        "  \n",
        "  for i in interp_weights:\n",
        "    interp_zs = linear_interpolate(left_z, right_z, i)  # Linearly interpolate between left_z and right_z.  Feel free to use a for loop.\n",
        "    bernoulli_mean = sigmoid(decoder(decoder_params, interp_zs))\n",
        "    bernoulli_means = np.concatenate((bernoulli_means, bernoulli_mean), axis=0)\n",
        "\n",
        "  plot_images(bernoulli_means.reshape(10, 784)) # we want the shape to be (10, 784)"
      ]
    },
    {
      "cell_type": "code",
      "execution_count": null,
      "metadata": {
        "colab": {
          "base_uri": "https://localhost:8080/",
          "height": 178
        },
        "id": "VwbJ00RLQ1aB",
        "outputId": "cee49843-1017-4702-92b0-8b1fc36fb9b5"
      },
      "outputs": [
        {
          "output_type": "display_data",
          "data": {
            "text/plain": [
              "<Figure size 432x288 with 1 Axes>"
            ],
            "image/png": "[encoded data removed]"
          },
          "metadata": {}
        }
      ],
      "source": [
        "plot_interp(3, 11)"
      ]
    },
    {
      "cell_type": "code",
      "execution_count": null,
      "metadata": {
        "colab": {
          "base_uri": "https://localhost:8080/",
          "height": 178
        },
        "id": "i7IrTnLbQ3oD",
        "outputId": "c559909a-9f82-4992-9e34-b5c5390a355f"
      },
      "outputs": [
        {
          "output_type": "display_data",
          "data": {
            "text/plain": [
              "<Figure size 432x288 with 1 Axes>"
            ],
            "image/png": "[encoded data removed]"
          },
          "metadata": {}
        }
      ],
      "source": [
        "plot_interp(11, 22)"
      ]
    },
    {
      "cell_type": "code",
      "execution_count": null,
      "metadata": {
        "colab": {
          "base_uri": "https://localhost:8080/",
          "height": 178
        },
        "id": "m2R_U7-9Q46R",
        "outputId": "448a44fb-c23e-4b84-d06e-0414751dff82"
      },
      "outputs": [
        {
          "output_type": "display_data",
          "data": {
            "text/plain": [
              "<Figure size 432x288 with 1 Axes>"
            ],
            "image/png": "[encoded data removed]"
          },
          "metadata": {}
        }
      ],
      "source": [
        "plot_interp(32, 334)"
      ]
    },
    {
      "cell_type": "markdown",
      "metadata": {
        "id": "URnkdY_KQxdT"
      },
      "source": [
        "# Question 3: Predicting the Bottom of Images given the Top [15 points]\n",
        "\n",
        "Now we'll use the trained generative model to perform inference for $p(z|\\text{top half of image x})$.\n",
        "Unfortunately, we can't re-use our recognition network, since it can only input entire images.\n",
        "However, we can still do approximate inference without the encoder.\n",
        "\n",
        "To illustrate this, we'll approximately infer the distribution over the pixels in the bottom half an image conditioned on the top half of the image:\n",
        "$$p(\\text{bottom half of image x} | \\text{top half of image x}) = \\int p(\\text{bottom half of image x} | z) p( z | \\text{top half of image x}) dz$$\n",
        "To approximate the posterior $p( z | \\text{top half of image x})$, we'll use stochastic variational inference.\n",
        "\n",
        "To implement SVI again, feel free to either use your ELBO as defined above, with a recognition network that doesn't use the datapoint, or re-use your SVI code from previous assignments.\n",
        "\n",
        "\n",
        "[5 points] Write a function that computes $p(z, \\text{top half of image x})$\n",
        "\t\n",
        "* First, we provided a function which returns only the top half of an array. This will be useful for plotting, as well as selecting the correct Bernoulli parameters.\n",
        "* Write a function that computes $\\log p(\\text{top half of image x} | z)$. Hint: Given $z$, the likelihood factorizes, and all the unobserved dimensions of $x$ are leaf nodes, so can be integrated out exactly.\n",
        "* Combine this likelihood with the prior to get a function that takes an x and an array of $z$s, and computes $p(z, \\text{top half of image x})$ for each $z$ in the array.\n",
        "\n",
        "\n",
        "Now, to approximate $p(z | \\text{top half of image x})$ in a scalable way, we'll use stochastic variational inference.  For 4 digits of your choosing from the training set:\n",
        "\n",
        "Now, to approximate $p(z | \\text{top half of image x})$ in a scalable way, we'll use stochastic variational inference.  For a digit of your choosing from the training set:\n",
        "\n",
        "* Initialize variational parameters $\\phi_\\mu$ and $\\phi_{\\log \\sigma}$ for a variational distribution $q_\\phi(z|\\text{top half of $x$})$.\n",
        "* Write a function that computes estimates the ELBO over $K$ samples $z \\sim q_\\phi(z|\\text{top half of $x$})$.\n",
        "Use $\\log p(z)$, $\\log p(\\text{top half of $x$} | z)$, and $\\log q_\\phi(z|\\text{top half of $x$})$.\n",
        "* Optimize $\\phi_\\mu$ and $\\phi_{\\log \\sigma}$ to maximize the ELBO.\n",
        "* Finally, take a sample $z$ from your approximate posterior, and feed it to the decoder to find the Bernoulli means of $p( \\text{bottom half of image x}|z)$.  Contatenate this greyscale image to the true top of the image.\n",
        "Plot the original whole image beside it for comparison.\n"
      ]
    },
    {
      "cell_type": "code",
      "execution_count": null,
      "metadata": {
        "id": "y3LHJ8WJQzJB"
      },
      "outputs": [],
      "source": [
        "def firsthalf(x):\n",
        "  D = np.shape(x)[-1]\n",
        "  return x[:(D // 2)]\n",
        "\n",
        "def secondhalf(x):\n",
        "  D = np.shape(x)[-1]\n",
        "  return x[(D // 2):]\n",
        "\n",
        "# Set up optimizer.\n",
        "stepsize = 0.0001\n",
        "num_samples_per_iter = 50\n",
        "\n",
        "def infer_bottom_half(ix):\n",
        "  datapoint = train_images[ix, :]\n",
        "\n",
        "  def log_likelihood_half(latent):\n",
        "    logits = decoder(decoder_params, latent)\n",
        "    return np.sum(bernoulli_logpdf(firsthalf(logits), firsthalf(datapoint))) # Compute log probability of p(first half of image | z)\n",
        "\n",
        "  def log_joint_half(latent):\n",
        "    return log_prior(latent) + log_likelihood_half(latent) # Compute log probability of p(first half of image, z)\n",
        "\n",
        "  def svi_elbo(logprob, rng, mean, log_std):\n",
        "    # Single-sample Monte Carlo estimate of the variational lower bound.\n",
        "    sample = diag_gaussian_sample(rng, mean, log_std)\n",
        "    return logprob(sample) - diag_gaussian_logpdf(sample, mean, log_std)\n",
        "\n",
        "  def batch_svi_elbo(logprob, rng, params, num_samples):\n",
        "    # Average over a batch of random samples. Use the vmap function for this part.\n",
        "    rngs = random.split(rng, num_samples)\n",
        "    vectorized_elbo = vmap(partial(svi_elbo, logprob), in_axes=(0, None, None))\n",
        "    return np.mean(vectorized_elbo(rngs, *params))\n",
        "\n",
        "  init_mean = random.normal(rng, (20,)) # How many variational parameters do you need for a single z?\n",
        "  init_std  = random.normal(rng, (20,)) # How many variational parameters do you need for a single z?\n",
        "  init_params = (init_mean, init_std)\n",
        "  opt_init, opt_update, get_params = optimizers.momentum(step_size=stepsize, mass=0.9)\n",
        "  opt_state = opt_init(init_params)\n",
        "\n",
        "  def objective(params, t):\n",
        "    # The loss function to be minimized.\n",
        "    rng = random.PRNGKey(t)\n",
        "    return -batch_svi_elbo(log_likelihood_half, rng, params, num_samples) # What objective are you optimizing?\n",
        "\n",
        "  @jit\n",
        "  def update(i, opt_state):\n",
        "      svi_params = get_params(opt_state) \n",
        "      gradient = grad(objective)(svi_params, i)\n",
        "      return opt_update(i, gradient, opt_state)\n",
        "\n",
        "  # Main loop.\n",
        "  print(\"Optimizing variational parameters...\")\n",
        "  for t in trange(0, 100):\n",
        "      opt_state = update(t, opt_state)\n",
        "      svi_params = get_params(opt_state)\n",
        "\n",
        "  (svi_mean, adsf) = svi_params\n",
        "\n",
        "  # Plotting code.\n",
        "  tophalf = np.concatenate([firsthalf(datapoint), 0.*firsthalf(datapoint)])\n",
        "  decoded = sigmoid(decoder(decoder_params, svi_mean))\n",
        "  combined = np.concatenate([firsthalf(datapoint), secondhalf(decoded)])\n",
        "  all = np.stack([datapoint, tophalf, decoded, combined], axis=1)\n",
        "  plot_images(all.T)"
      ]
    },
    {
      "cell_type": "code",
      "execution_count": null,
      "metadata": {
        "colab": {
          "base_uri": "https://localhost:8080/",
          "height": 162,
          "referenced_widgets": [
            "969c8e953c6b48c6a3a65807a4075786",
            "6e8fa798088648b790ea767d2dc16df0",
            "1e7fd39ad41c4ed99db9974489c878fd",
            "8691168ae12c40cb8fb4a7eefb373b91",
            "7efa4b34054c43758e44c694abbce2d6",
            "52263888f5c64be386137025bd5deb40",
            "35055ceeb1f240d59e1cb823d1e3aac3",
            "f7c40214bbb4425fbb511fb4bfc6052d",
            "2d92a65104ac4649898083662e2abcf7",
            "22265f5d31534cd9842ac53ab64557dc",
            "f445713f83514c0083322749728b7bed"
          ]
        },
        "id": "Cxno2UOLS3Ar",
        "outputId": "7a7d812b-fec1-43ce-946e-6f7b31244acf"
      },
      "outputs": [
        {
          "output_type": "stream",
          "name": "stdout",
          "text": [
            "Optimizing variational parameters...\n"
          ]
        },
        {
          "output_type": "display_data",
          "data": {
            "text/plain": [
              "  0%|          | 0/100 [00:00<?, ?it/s]"
            ],
            "application/vnd.jupyter.widget-view+json": {
              "version_major": 2,
              "version_minor": 0,
              "model_id": "969c8e953c6b48c6a3a65807a4075786"
            }
          },
          "metadata": {}
        },
        {
          "output_type": "display_data",
          "data": {
            "text/plain": [
              "<Figure size 432x288 with 1 Axes>"
            ],
            "image/png": "[encoded data removed]"
          },
          "metadata": {}
        }
      ],
      "source": [
        "infer_bottom_half(0)"
      ]
    },
    {
      "cell_type": "code",
      "execution_count": null,
      "metadata": {
        "colab": {
          "base_uri": "https://localhost:8080/",
          "height": 162,
          "referenced_widgets": [
            "a16a2502de3846f69c8063e935c3ffcc",
            "3d011c3db888423e9e2020d20cf9c80e",
            "526be27f2da14450bbc7cf03e9deb89f",
            "114cdc5708d444b788735a5248cb20c6",
            "c835a24486bb41c8adf3e522d85e5735",
            "c7170ea5af704a9ba34a8318e75dc698",
            "0cee8fefa37844b1882d259917b7ec74",
            "d4c86fcf0ca44c56af7abc692ff5e966",
            "9f3a2ba9e5cd40a887c0493b3b130173",
            "aa992413388b406c9ceb5088b350d7b8",
            "617b707985ce40e694d71f8eead2916f"
          ]
        },
        "id": "DCQJlkeiTfoD",
        "outputId": "5d235cb2-769b-45e0-d20e-56afac7d89eb"
      },
      "outputs": [
        {
          "output_type": "stream",
          "name": "stdout",
          "text": [
            "Optimizing variational parameters...\n"
          ]
        },
        {
          "output_type": "display_data",
          "data": {
            "text/plain": [
              "  0%|          | 0/100 [00:00<?, ?it/s]"
            ],
            "application/vnd.jupyter.widget-view+json": {
              "version_major": 2,
              "version_minor": 0,
              "model_id": "a16a2502de3846f69c8063e935c3ffcc"
            }
          },
          "metadata": {}
        },
        {
          "output_type": "display_data",
          "data": {
            "text/plain": [
              "<Figure size 432x288 with 1 Axes>"
            ],
            "image/png": "[encoded data removed]"
          },
          "metadata": {}
        }
      ],
      "source": [
        "infer_bottom_half(1)"
      ]
    },
    {
      "cell_type": "code",
      "execution_count": null,
      "metadata": {
        "colab": {
          "base_uri": "https://localhost:8080/",
          "height": 162,
          "referenced_widgets": [
            "bc32cd63586e4ca9bdb51e1c92927805",
            "c7da4979275e4cdeb3163b683e732aef",
            "b9fcd78439de4f4cae57d44e6d84ae90",
            "95acad48431c4701a9e12efbfe4d2e28",
            "6fdf3255fd4541ca968dda8ef4a99a3b",
            "e04c2ee6b2974b74a42df4d93b46547a",
            "4866ff6ee7dd4bf9895d74d827f436d9",
            "4701bb8f6ff1402dbb8113d92f9e67f1",
            "3d52cadba08e4cae9791efecb654f2c5",
            "9edbd3a99f604aa69c07672ad80ebee6",
            "f9e92bf4235540d49c1c206c0ba24577"
          ]
        },
        "id": "Vwvs3V3aTivw",
        "outputId": "c909bfcb-7ee6-42f6-c9f2-b130303c53b0"
      },
      "outputs": [
        {
          "output_type": "stream",
          "name": "stdout",
          "text": [
            "Optimizing variational parameters...\n"
          ]
        },
        {
          "output_type": "display_data",
          "data": {
            "text/plain": [
              "  0%|          | 0/100 [00:00<?, ?it/s]"
            ],
            "application/vnd.jupyter.widget-view+json": {
              "version_major": 2,
              "version_minor": 0,
              "model_id": "bc32cd63586e4ca9bdb51e1c92927805"
            }
          },
          "metadata": {}
        },
        {
          "output_type": "display_data",
          "data": {
            "text/plain": [
              "<Figure size 432x288 with 1 Axes>"
            ],
            "image/png": "[encoded data removed]"
          },
          "metadata": {}
        }
      ],
      "source": [
        "infer_bottom_half(3)"
      ]
    },
    {
      "cell_type": "code",
      "execution_count": null,
      "metadata": {
        "colab": {
          "base_uri": "https://localhost:8080/",
          "height": 162,
          "referenced_widgets": [
            "da0a4f88e7514268a8f464b3d806b2f8",
            "7b577d5a2c7c4168ac8a0b1311213e44",
            "b0392583bfcc45b38c7ac56f0e8223e3",
            "fa269c5ccb724df783ba658b3998851a",
            "a094aa1e76194b94bf2470ffecacb36f",
            "d7fccf847f424823a14ac2dd21bf4c19",
            "072e2e866f594d538f2fb3c9025ea27f",
            "9c5fa8d57cc744e7b573b93f13f157ac",
            "4bfe7bfc4e8541b885fef544931c0ce4",
            "d5d649474b154e7b8cf40a2069d861e7",
            "0e4a6b8ef6654816b504cff1cf257cde"
          ]
        },
        "id": "kzpO8wVhTltK",
        "outputId": "4c05a641-3871-49f0-d4d5-359b9c7e3531"
      },
      "outputs": [
        {
          "output_type": "stream",
          "name": "stdout",
          "text": [
            "Optimizing variational parameters...\n"
          ]
        },
        {
          "output_type": "display_data",
          "data": {
            "text/plain": [
              "  0%|          | 0/100 [00:00<?, ?it/s]"
            ],
            "application/vnd.jupyter.widget-view+json": {
              "version_major": 2,
              "version_minor": 0,
              "model_id": "da0a4f88e7514268a8f464b3d806b2f8"
            }
          },
          "metadata": {}
        },
        {
          "output_type": "display_data",
          "data": {
            "text/plain": [
              "<Figure size 432x288 with 1 Axes>"
            ],
            "image/png": "[encoded data removed]"
          },
          "metadata": {}
        }
      ],
      "source": [
        "infer_bottom_half(110)"
      ]
    },
    {
      "cell_type": "markdown",
      "metadata": {
        "id": "nS8E9oy5TkQH"
      },
      "source": [
        "# Q4 [10 points] Improving the model.\n",
        "\n",
        "Copy code from question 2.3 or any others above that you'd like.  Try making 3 different changes to the model, recognition network, or optimization setup and report the improvement in ELBO you get for each one.\n"
      ]
    },
    {
      "cell_type": "code",
      "execution_count": null,
      "metadata": {
        "colab": {
          "base_uri": "https://localhost:8080/",
          "height": 1000,
          "referenced_widgets": [
            "d12776ba5f2a4e708109fcac4f686b3f",
            "e4a26dbba9104559973d6fdff350406a",
            "a3135c86fd024c5580e0a4fe241ca553",
            "e1da002c7fa347b182ceb2d65edd0e6e",
            "16d81d4145a9411c86a42b75d9579c00",
            "3df189778a1047bda85a9de17464aea9",
            "d609bab596c84483bac9f874bec43960",
            "1f217e452b4542f59e07835a557c16b8",
            "e689e97288e94568bb52b594a974347a",
            "31c80c5796f043e9b6932f1773ee910c",
            "15235cf181734ed9ab8355ec247ae5b6"
          ]
        },
        "id": "Ycb3QaILTlkK",
        "outputId": "663c46cc-de6e-43a3-ae6f-09f5acae96aa"
      },
      "outputs": [
        {
          "output_type": "stream",
          "name": "stdout",
          "text": [
            "Optimizing variational parameters...\n"
          ]
        },
        {
          "output_type": "display_data",
          "data": {
            "text/plain": [
              "  0%|          | 0/5000 [00:00<?, ?it/s]"
            ],
            "application/vnd.jupyter.widget-view+json": {
              "version_major": 2,
              "version_minor": 0,
              "model_id": "d12776ba5f2a4e708109fcac4f686b3f"
            }
          },
          "metadata": {}
        },
        {
          "output_type": "stream",
          "name": "stdout",
          "text": [
            "Iteration 0 lower bound -536.0285034179688\n",
            "Iteration 100 lower bound -185.48793029785156\n",
            "Iteration 200 lower bound -169.51824951171875\n",
            "Iteration 300 lower bound -147.43553161621094\n",
            "Iteration 400 lower bound -139.81451416015625\n",
            "Iteration 500 lower bound -135.782470703125\n",
            "Iteration 600 lower bound -125.61235046386719\n",
            "Iteration 700 lower bound -127.49856567382812\n",
            "Iteration 800 lower bound -124.86795806884766\n",
            "Iteration 900 lower bound -123.00032806396484\n",
            "Iteration 1000 lower bound -123.10726165771484\n",
            "Iteration 1100 lower bound -129.73583984375\n",
            "Iteration 1200 lower bound -128.60939025878906\n",
            "Iteration 1300 lower bound -122.39859771728516\n",
            "Iteration 1400 lower bound -125.2281494140625\n",
            "Iteration 1500 lower bound -122.18595123291016\n",
            "Iteration 1600 lower bound -119.38844299316406\n",
            "Iteration 1700 lower bound -124.37651824951172\n",
            "Iteration 1800 lower bound -121.70169830322266\n",
            "Iteration 1900 lower bound -120.30235290527344\n",
            "Iteration 2000 lower bound -124.06324768066406\n",
            "Iteration 2100 lower bound -120.00200653076172\n",
            "Iteration 2200 lower bound -120.1748046875\n",
            "Iteration 2300 lower bound -121.75816345214844\n",
            "Iteration 2400 lower bound -119.16205596923828\n",
            "Iteration 2500 lower bound -125.33001708984375\n",
            "Iteration 2600 lower bound -116.3343505859375\n",
            "Iteration 2700 lower bound -115.8190689086914\n",
            "Iteration 2800 lower bound -116.07525634765625\n",
            "Iteration 2900 lower bound -122.89414978027344\n",
            "Iteration 3000 lower bound -118.95256805419922\n",
            "Iteration 3100 lower bound -121.77825927734375\n",
            "Iteration 3200 lower bound -120.78994750976562\n",
            "Iteration 3300 lower bound -120.37450408935547\n",
            "Iteration 3400 lower bound -117.25521850585938\n",
            "Iteration 3500 lower bound -122.78316497802734\n",
            "Iteration 3600 lower bound -123.21048736572266\n",
            "Iteration 3700 lower bound -114.32679748535156\n",
            "Iteration 3800 lower bound -126.9996566772461\n",
            "Iteration 3900 lower bound -122.06836700439453\n",
            "Iteration 4000 lower bound -120.17233276367188\n",
            "Iteration 4100 lower bound -122.94720458984375\n",
            "Iteration 4200 lower bound -119.34915161132812\n",
            "Iteration 4300 lower bound -119.57804107666016\n",
            "Iteration 4400 lower bound -119.38692474365234\n",
            "Iteration 4500 lower bound -118.83497619628906\n",
            "Iteration 4600 lower bound -121.12089538574219\n",
            "Iteration 4700 lower bound -121.03987884521484\n",
            "Iteration 4800 lower bound -122.31450653076172\n",
            "Iteration 4900 lower bound -117.7276611328125\n"
          ]
        },
        {
          "output_type": "execute_result",
          "data": {
            "text/plain": [
              "(-0.2865089435130358,\n",
              " 0.025967064872384073,\n",
              " -0.0632651498541236,\n",
              " 0.2626074044033885)"
            ]
          },
          "metadata": {},
          "execution_count": 26
        },
        {
          "output_type": "display_data",
          "data": {
            "text/plain": [
              "<Figure size 432x288 with 1 Axes>"
            ],
            "image/png": "[encoded data removed]"
          },
          "metadata": {
            "needs_background": "light"
          }
        }
      ],
      "source": [
        "# Leave a comment at the top of your code listing three changes and the improvement it made to the ELBO:\n",
        "# Change 1: Changed latent_dim -> 25, new ELBO: -120.695\n",
        "# Change 2: Changed n_iters -> 3200, new ELBO: -119.943\n",
        "# Change 3: Changed minibatch_size -> 250, new ELBO: \n",
        "\n",
        "# copied from 2.3\n",
        "\n",
        "# ==========================================\n",
        "\n",
        "data_dimension = 28*28\n",
        "latent_dimension = 20 # original 20, new 25\n",
        "key = random.PRNGKey(0)\n",
        "\n",
        "# Define the recognition network.\n",
        "# We implement the functions as a split output of a 1-layer MLP\n",
        "# https://github.com/google/jax/blob/master/jax/experimental/README.md#neural-net-building-with-stax\n",
        "init_recognize, recognition_net = serial(\n",
        "    Dense(150),\n",
        "    Relu,\n",
        "    Dense(50),\n",
        "    Relu,\n",
        "    FanOut(2),\n",
        "    parallel(\n",
        "        Dense(latent_dimension),   # Output mean of q(z)\n",
        "        Dense(latent_dimension)    # Output log_std of q(z)\n",
        "        )\n",
        "    )\n",
        "_, init_recognition_params = init_recognize(rng, input_shape=(data_dimension,))  # What is the input dimension of the encoder?\n",
        "\n",
        "\n",
        "# Define the decoder network.\n",
        "init_decoder, decoder = serial(\n",
        "    Dense(150),\n",
        "    Relu,\n",
        "    Dense(50),\n",
        "    Relu,\n",
        "    Dense(data_dimension),    # Output logit of Ber(x|z)\n",
        ")\n",
        "_, init_decoder_params = init_decoder(rng, input_shape=(latent_dimension,))      # What is the input dimension of the decoder?\n",
        "\n",
        "\n",
        "# Set up log likelihood function.\n",
        "def bernoulli_logpdf(logits, x):\n",
        "  \"\"\"Bernoulli log pdf of data x given logits.\"\"\"\n",
        "  return -np.sum(np.logaddexp(0., np.where(x, -1., 1.) * logits))\n",
        "\n",
        "def log_likelihood(decoder_params, latent, datapoint): # not TODO\n",
        "  logits = decoder(decoder_params, latent)\n",
        "  return bernoulli_logpdf(logits, datapoint)\n",
        "\n",
        "def log_joint(decoder_params, latent, datapoint): # not TODO\n",
        "  return log_prior(latent) + log_likelihood(decoder_params, latent, datapoint)\n",
        "\n",
        "# Run optimization\n",
        "optimizer=optimizers.adam\n",
        "optimizer_kwargs=dict(step_size=1e-2)\n",
        "n_iters = 5000 # original 5000, new 3200\n",
        "minibatch_size = 250 # original 200, new 250\n",
        "\n",
        "opt_init, opt_update, get_params = optimizer(**optimizer_kwargs)\n",
        "opt_state = opt_init((init_recognition_params, init_decoder_params))\n",
        "\n",
        "def objective(params, t):  # The loss function to be minimized.  \n",
        "  rng = random.PRNGKey(t)\n",
        "  minibatch_ixs = random.choice(rng, train_images.shape[0], (minibatch_size,))\n",
        "  minibatch = train_images[minibatch_ixs, :] # not TODO\n",
        "  recognition_params, decoder_params = params # not TODO\n",
        "  return -batch_elbo(\n",
        "    recognition_net,\n",
        "    log_joint,\n",
        "    recognition_params,  # a.k.a. phi\n",
        "    decoder_params,      # a.k.a. theta\n",
        "    minibatch,\n",
        "    rng) # not TODO\n",
        "\n",
        "def callback(params, t):\n",
        "  if t % 100 == 0:\n",
        "    print(\"Iteration {} lower bound {}\".format(t, -objective(params, t)))\n",
        "\n",
        "@jit\n",
        "def update(i, opt_state):\n",
        "    params = get_params(opt_state) \n",
        "    gradient = grad(objective)(params, i)\n",
        "    return opt_update(i, gradient, opt_state)\n",
        "\n",
        "# Main loop.\n",
        "print(\"Optimizing variational parameters...\")\n",
        "for t in trange(0, n_iters):\n",
        "    opt_state = update(t, opt_state)\n",
        "    params = get_params(opt_state)\n",
        "    callback(params, t)\n",
        "\n",
        "recognition_params, decoder_params = params\n",
        "\n",
        "for k in range(10):\n",
        "  cur_data = train_images[train_labels[:, k] == True, :]\n",
        "  transformed = recognition_net(recognition_params, cur_data)[0] # Call recognition net and extract mean\n",
        "  plt.scatter(transformed[:, 0], transformed[:, 1], s=2)\n",
        "\n",
        "plt.axis(\"equal\")"
      ]
    },
    {
      "cell_type": "markdown",
      "metadata": {
        "id": "MZfiOaXW97o7"
      },
      "source": [
        "# Q5\n",
        "\n",
        "Please fill out the course evaluations. We would appreciate your feedback on the course materials, assignments, structure, delivery etc."
      ]
    },
    {
      "cell_type": "code",
      "execution_count": null,
      "metadata": {
        "colab": {
          "background_save": true
        },
        "id": "Jex0FQRucjHS"
      },
      "outputs": [],
      "source": [
        "# Yes sir, I did it don't worry. Thank you for the course."
      ]
    }
  ],
  "metadata": {
    "accelerator": "GPU",
    "colab": {
      "collapsed_sections": [],
      "name": "414 Solo Assignment 4",
      "provenance": []
    },
    "kernelspec": {
      "display_name": "Python 3",
      "name": "python3"
    },
    "language_info": {
      "name": "python"
    },
    "widgets": {
      "application/vnd.jupyter.widget-state+json": {
        "ebf78806c5504c6e886480e729d1ad84": {
          "model_module": "@jupyter-widgets/controls",
          "model_name": "HBoxModel",
          "model_module_version": "1.5.0",
          "state": {
            "_dom_classes": [],
            "_model_module": "@jupyter-widgets/controls",
            "_model_module_version": "1.5.0",
            "_model_name": "HBoxModel",
            "_view_count": null,
            "_view_module": "@jupyter-widgets/controls",
            "_view_module_version": "1.5.0",
            "_view_name": "HBoxView",
            "box_style": "",
            "children": [
              "IPY_MODEL_782fda4ad2764e2b82582928686d40e3",
              "IPY_MODEL_b009340f365743bb86077bd7beb3abc8",
              "IPY_MODEL_ca77de9887d14b7d872483a92c23c1ac"
            ],
            "layout": "IPY_MODEL_65325873df8141f7a30c06771b4416e4"
          }
        },
        "782fda4ad2764e2b82582928686d40e3": {
          "model_module": "@jupyter-widgets/controls",
          "model_name": "HTMLModel",
          "model_module_version": "1.5.0",
          "state": {
            "_dom_classes": [],
            "_model_module": "@jupyter-widgets/controls",
            "_model_module_version": "1.5.0",
            "_model_name": "HTMLModel",
            "_view_count": null,
            "_view_module": "@jupyter-widgets/controls",
            "_view_module_version": "1.5.0",
            "_view_name": "HTMLView",
            "description": "",
            "description_tooltip": null,
            "layout": "IPY_MODEL_9394a653b15d4830913b5dd02c011408",
            "placeholder": "​",
            "style": "IPY_MODEL_5c683e45f9604dc9a5275da55c4b6d1b",
            "value": "100%"
          }
        },
        "b009340f365743bb86077bd7beb3abc8": {
          "model_module": "@jupyter-widgets/controls",
          "model_name": "FloatProgressModel",
          "model_module_version": "1.5.0",
          "state": {
            "_dom_classes": [],
            "_model_module": "@jupyter-widgets/controls",
            "_model_module_version": "1.5.0",
            "_model_name": "FloatProgressModel",
            "_view_count": null,
            "_view_module": "@jupyter-widgets/controls",
            "_view_module_version": "1.5.0",
            "_view_name": "ProgressView",
            "bar_style": "success",
            "description": "",
            "description_tooltip": null,
            "layout": "IPY_MODEL_be32f45530f8415fbf2b57cd6cc5e63e",
            "max": 2000,
            "min": 0,
            "orientation": "horizontal",
            "style": "IPY_MODEL_b0c377621ccb4eeb97c3ca9260621702",
            "value": 2000
          }
        },
        "ca77de9887d14b7d872483a92c23c1ac": {
          "model_module": "@jupyter-widgets/controls",
          "model_name": "HTMLModel",
          "model_module_version": "1.5.0",
          "state": {
            "_dom_classes": [],
            "_model_module": "@jupyter-widgets/controls",
            "_model_module_version": "1.5.0",
            "_model_name": "HTMLModel",
            "_view_count": null,
            "_view_module": "@jupyter-widgets/controls",
            "_view_module_version": "1.5.0",
            "_view_name": "HTMLView",
            "description": "",
            "description_tooltip": null,
            "layout": "IPY_MODEL_5568f018ea894d1d8dd05bcf6c7b7a68",
            "placeholder": "​",
            "style": "IPY_MODEL_04200ac7fdbb40dca27df96ab60456ca",
            "value": " 2000/2000 [00:36&lt;00:00, 72.31it/s]"
          }
        },
        "65325873df8141f7a30c06771b4416e4": {
          "model_module": "@jupyter-widgets/base",
          "model_name": "LayoutModel",
          "model_module_version": "1.2.0",
          "state": {
            "_model_module": "@jupyter-widgets/base",
            "_model_module_version": "1.2.0",
            "_model_name": "LayoutModel",
            "_view_count": null,
            "_view_module": "@jupyter-widgets/base",
            "_view_module_version": "1.2.0",
            "_view_name": "LayoutView",
            "align_content": null,
            "align_items": null,
            "align_self": null,
            "border": null,
            "bottom": null,
            "display": null,
            "flex": null,
            "flex_flow": null,
            "grid_area": null,
            "grid_auto_columns": null,
            "grid_auto_flow": null,
            "grid_auto_rows": null,
            "grid_column": null,
            "grid_gap": null,
            "grid_row": null,
            "grid_template_areas": null,
            "grid_template_columns": null,
            "grid_template_rows": null,
            "height": null,
            "justify_content": null,
            "justify_items": null,
            "left": null,
            "margin": null,
            "max_height": null,
            "max_width": null,
            "min_height": null,
            "min_width": null,
            "object_fit": null,
            "object_position": null,
            "order": null,
            "overflow": null,
            "overflow_x": null,
            "overflow_y": null,
            "padding": null,
            "right": null,
            "top": null,
            "visibility": null,
            "width": null
          }
        },
        "9394a653b15d4830913b5dd02c011408": {
          "model_module": "@jupyter-widgets/base",
          "model_name": "LayoutModel",
          "model_module_version": "1.2.0",
          "state": {
            "_model_module": "@jupyter-widgets/base",
            "_model_module_version": "1.2.0",
            "_model_name": "LayoutModel",
            "_view_count": null,
            "_view_module": "@jupyter-widgets/base",
            "_view_module_version": "1.2.0",
            "_view_name": "LayoutView",
            "align_content": null,
            "align_items": null,
            "align_self": null,
            "border": null,
            "bottom": null,
            "display": null,
            "flex": null,
            "flex_flow": null,
            "grid_area": null,
            "grid_auto_columns": null,
            "grid_auto_flow": null,
            "grid_auto_rows": null,
            "grid_column": null,
            "grid_gap": null,
            "grid_row": null,
            "grid_template_areas": null,
            "grid_template_columns": null,
            "grid_template_rows": null,
            "height": null,
            "justify_content": null,
            "justify_items": null,
            "left": null,
            "margin": null,
            "max_height": null,
            "max_width": null,
            "min_height": null,
            "min_width": null,
            "object_fit": null,
            "object_position": null,
            "order": null,
            "overflow": null,
            "overflow_x": null,
            "overflow_y": null,
            "padding": null,
            "right": null,
            "top": null,
            "visibility": null,
            "width": null
          }
        },
        "5c683e45f9604dc9a5275da55c4b6d1b": {
          "model_module": "@jupyter-widgets/controls",
          "model_name": "DescriptionStyleModel",
          "model_module_version": "1.5.0",
          "state": {
            "_model_module": "@jupyter-widgets/controls",
            "_model_module_version": "1.5.0",
            "_model_name": "DescriptionStyleModel",
            "_view_count": null,
            "_view_module": "@jupyter-widgets/base",
            "_view_module_version": "1.2.0",
            "_view_name": "StyleView",
            "description_width": ""
          }
        },
        "be32f45530f8415fbf2b57cd6cc5e63e": {
          "model_module": "@jupyter-widgets/base",
          "model_name": "LayoutModel",
          "model_module_version": "1.2.0",
          "state": {
            "_model_module": "@jupyter-widgets/base",
            "_model_module_version": "1.2.0",
            "_model_name": "LayoutModel",
            "_view_count": null,
            "_view_module": "@jupyter-widgets/base",
            "_view_module_version": "1.2.0",
            "_view_name": "LayoutView",
            "align_content": null,
            "align_items": null,
            "align_self": null,
            "border": null,
            "bottom": null,
            "display": null,
            "flex": null,
            "flex_flow": null,
            "grid_area": null,
            "grid_auto_columns": null,
            "grid_auto_flow": null,
            "grid_auto_rows": null,
            "grid_column": null,
            "grid_gap": null,
            "grid_row": null,
            "grid_template_areas": null,
            "grid_template_columns": null,
            "grid_template_rows": null,
            "height": null,
            "justify_content": null,
            "justify_items": null,
            "left": null,
            "margin": null,
            "max_height": null,
            "max_width": null,
            "min_height": null,
            "min_width": null,
            "object_fit": null,
            "object_position": null,
            "order": null,
            "overflow": null,
            "overflow_x": null,
            "overflow_y": null,
            "padding": null,
            "right": null,
            "top": null,
            "visibility": null,
            "width": null
          }
        },
        "b0c377621ccb4eeb97c3ca9260621702": {
          "model_module": "@jupyter-widgets/controls",
          "model_name": "ProgressStyleModel",
          "model_module_version": "1.5.0",
          "state": {
            "_model_module": "@jupyter-widgets/controls",
            "_model_module_version": "1.5.0",
            "_model_name": "ProgressStyleModel",
            "_view_count": null,
            "_view_module": "@jupyter-widgets/base",
            "_view_module_version": "1.2.0",
            "_view_name": "StyleView",
            "bar_color": null,
            "description_width": ""
          }
        },
        "5568f018ea894d1d8dd05bcf6c7b7a68": {
          "model_module": "@jupyter-widgets/base",
          "model_name": "LayoutModel",
          "model_module_version": "1.2.0",
          "state": {
            "_model_module": "@jupyter-widgets/base",
            "_model_module_version": "1.2.0",
            "_model_name": "LayoutModel",
            "_view_count": null,
            "_view_module": "@jupyter-widgets/base",
            "_view_module_version": "1.2.0",
            "_view_name": "LayoutView",
            "align_content": null,
            "align_items": null,
            "align_self": null,
            "border": null,
            "bottom": null,
            "display": null,
            "flex": null,
            "flex_flow": null,
            "grid_area": null,
            "grid_auto_columns": null,
            "grid_auto_flow": null,
            "grid_auto_rows": null,
            "grid_column": null,
            "grid_gap": null,
            "grid_row": null,
            "grid_template_areas": null,
            "grid_template_columns": null,
            "grid_template_rows": null,
            "height": null,
            "justify_content": null,
            "justify_items": null,
            "left": null,
            "margin": null,
            "max_height": null,
            "max_width": null,
            "min_height": null,
            "min_width": null,
            "object_fit": null,
            "object_position": null,
            "order": null,
            "overflow": null,
            "overflow_x": null,
            "overflow_y": null,
            "padding": null,
            "right": null,
            "top": null,
            "visibility": null,
            "width": null
          }
        },
        "04200ac7fdbb40dca27df96ab60456ca": {
          "model_module": "@jupyter-widgets/controls",
          "model_name": "DescriptionStyleModel",
          "model_module_version": "1.5.0",
          "state": {
            "_model_module": "@jupyter-widgets/controls",
            "_model_module_version": "1.5.0",
            "_model_name": "DescriptionStyleModel",
            "_view_count": null,
            "_view_module": "@jupyter-widgets/base",
            "_view_module_version": "1.2.0",
            "_view_name": "StyleView",
            "description_width": ""
          }
        },
        "898f2251e4234060a82a1a7caadbb178": {
          "model_module": "@jupyter-widgets/controls",
          "model_name": "HBoxModel",
          "model_module_version": "1.5.0",
          "state": {
            "_dom_classes": [],
            "_model_module": "@jupyter-widgets/controls",
            "_model_module_version": "1.5.0",
            "_model_name": "HBoxModel",
            "_view_count": null,
            "_view_module": "@jupyter-widgets/controls",
            "_view_module_version": "1.5.0",
            "_view_name": "HBoxView",
            "box_style": "",
            "children": [
              "IPY_MODEL_39dbc6c5ef2e499ca8f7226a0a8afed5",
              "IPY_MODEL_74994504975c47b9b060c0f62ec268d7",
              "IPY_MODEL_c3fac65450ca4d21aae8262be3e9ed04"
            ],
            "layout": "IPY_MODEL_0f3d40ea24d045adaceda49689adf13c"
          }
        },
        "39dbc6c5ef2e499ca8f7226a0a8afed5": {
          "model_module": "@jupyter-widgets/controls",
          "model_name": "HTMLModel",
          "model_module_version": "1.5.0",
          "state": {
            "_dom_classes": [],
            "_model_module": "@jupyter-widgets/controls",
            "_model_module_version": "1.5.0",
            "_model_name": "HTMLModel",
            "_view_count": null,
            "_view_module": "@jupyter-widgets/controls",
            "_view_module_version": "1.5.0",
            "_view_name": "HTMLView",
            "description": "",
            "description_tooltip": null,
            "layout": "IPY_MODEL_ba5eb57c0e77474babfa8b0ca8c15e61",
            "placeholder": "​",
            "style": "IPY_MODEL_2a13c1b1029949a8aee0d8840b0ebff4",
            "value": "100%"
          }
        },
        "74994504975c47b9b060c0f62ec268d7": {
          "model_module": "@jupyter-widgets/controls",
          "model_name": "FloatProgressModel",
          "model_module_version": "1.5.0",
          "state": {
            "_dom_classes": [],
            "_model_module": "@jupyter-widgets/controls",
            "_model_module_version": "1.5.0",
            "_model_name": "FloatProgressModel",
            "_view_count": null,
            "_view_module": "@jupyter-widgets/controls",
            "_view_module_version": "1.5.0",
            "_view_name": "ProgressView",
            "bar_style": "success",
            "description": "",
            "description_tooltip": null,
            "layout": "IPY_MODEL_22979f742bf34fda95745f6280d1611e",
            "max": 5000,
            "min": 0,
            "orientation": "horizontal",
            "style": "IPY_MODEL_61f173e8f7ee4814a7769d85d036a8cc",
            "value": 5000
          }
        },
        "c3fac65450ca4d21aae8262be3e9ed04": {
          "model_module": "@jupyter-widgets/controls",
          "model_name": "HTMLModel",
          "model_module_version": "1.5.0",
          "state": {
            "_dom_classes": [],
            "_model_module": "@jupyter-widgets/controls",
            "_model_module_version": "1.5.0",
            "_model_name": "HTMLModel",
            "_view_count": null,
            "_view_module": "@jupyter-widgets/controls",
            "_view_module_version": "1.5.0",
            "_view_name": "HTMLView",
            "description": "",
            "description_tooltip": null,
            "layout": "IPY_MODEL_c5d9f6f529a844748aa894e457e76538",
            "placeholder": "​",
            "style": "IPY_MODEL_46ccab1518cd4fdb8bb15cf0c3a8510a",
            "value": " 5000/5000 [01:00&lt;00:00, 108.54it/s]"
          }
        },
        "0f3d40ea24d045adaceda49689adf13c": {
          "model_module": "@jupyter-widgets/base",
          "model_name": "LayoutModel",
          "model_module_version": "1.2.0",
          "state": {
            "_model_module": "@jupyter-widgets/base",
            "_model_module_version": "1.2.0",
            "_model_name": "LayoutModel",
            "_view_count": null,
            "_view_module": "@jupyter-widgets/base",
            "_view_module_version": "1.2.0",
            "_view_name": "LayoutView",
            "align_content": null,
            "align_items": null,
            "align_self": null,
            "border": null,
            "bottom": null,
            "display": null,
            "flex": null,
            "flex_flow": null,
            "grid_area": null,
            "grid_auto_columns": null,
            "grid_auto_flow": null,
            "grid_auto_rows": null,
            "grid_column": null,
            "grid_gap": null,
            "grid_row": null,
            "grid_template_areas": null,
            "grid_template_columns": null,
            "grid_template_rows": null,
            "height": null,
            "justify_content": null,
            "justify_items": null,
            "left": null,
            "margin": null,
            "max_height": null,
            "max_width": null,
            "min_height": null,
            "min_width": null,
            "object_fit": null,
            "object_position": null,
            "order": null,
            "overflow": null,
            "overflow_x": null,
            "overflow_y": null,
            "padding": null,
            "right": null,
            "top": null,
            "visibility": null,
            "width": null
          }
        },
        "ba5eb57c0e77474babfa8b0ca8c15e61": {
          "model_module": "@jupyter-widgets/base",
          "model_name": "LayoutModel",
          "model_module_version": "1.2.0",
          "state": {
            "_model_module": "@jupyter-widgets/base",
            "_model_module_version": "1.2.0",
            "_model_name": "LayoutModel",
            "_view_count": null,
            "_view_module": "@jupyter-widgets/base",
            "_view_module_version": "1.2.0",
            "_view_name": "LayoutView",
            "align_content": null,
            "align_items": null,
            "align_self": null,
            "border": null,
            "bottom": null,
            "display": null,
            "flex": null,
            "flex_flow": null,
            "grid_area": null,
            "grid_auto_columns": null,
            "grid_auto_flow": null,
            "grid_auto_rows": null,
            "grid_column": null,
            "grid_gap": null,
            "grid_row": null,
            "grid_template_areas": null,
            "grid_template_columns": null,
            "grid_template_rows": null,
            "height": null,
            "justify_content": null,
            "justify_items": null,
            "left": null,
            "margin": null,
            "max_height": null,
            "max_width": null,
            "min_height": null,
            "min_width": null,
            "object_fit": null,
            "object_position": null,
            "order": null,
            "overflow": null,
            "overflow_x": null,
            "overflow_y": null,
            "padding": null,
            "right": null,
            "top": null,
            "visibility": null,
            "width": null
          }
        },
        "2a13c1b1029949a8aee0d8840b0ebff4": {
          "model_module": "@jupyter-widgets/controls",
          "model_name": "DescriptionStyleModel",
          "model_module_version": "1.5.0",
          "state": {
            "_model_module": "@jupyter-widgets/controls",
            "_model_module_version": "1.5.0",
            "_model_name": "DescriptionStyleModel",
            "_view_count": null,
            "_view_module": "@jupyter-widgets/base",
            "_view_module_version": "1.2.0",
            "_view_name": "StyleView",
            "description_width": ""
          }
        },
        "22979f742bf34fda95745f6280d1611e": {
          "model_module": "@jupyter-widgets/base",
          "model_name": "LayoutModel",
          "model_module_version": "1.2.0",
          "state": {
            "_model_module": "@jupyter-widgets/base",
            "_model_module_version": "1.2.0",
            "_model_name": "LayoutModel",
            "_view_count": null,
            "_view_module": "@jupyter-widgets/base",
            "_view_module_version": "1.2.0",
            "_view_name": "LayoutView",
            "align_content": null,
            "align_items": null,
            "align_self": null,
            "border": null,
            "bottom": null,
            "display": null,
            "flex": null,
            "flex_flow": null,
            "grid_area": null,
            "grid_auto_columns": null,
            "grid_auto_flow": null,
            "grid_auto_rows": null,
            "grid_column": null,
            "grid_gap": null,
            "grid_row": null,
            "grid_template_areas": null,
            "grid_template_columns": null,
            "grid_template_rows": null,
            "height": null,
            "justify_content": null,
            "justify_items": null,
            "left": null,
            "margin": null,
            "max_height": null,
            "max_width": null,
            "min_height": null,
            "min_width": null,
            "object_fit": null,
            "object_position": null,
            "order": null,
            "overflow": null,
            "overflow_x": null,
            "overflow_y": null,
            "padding": null,
            "right": null,
            "top": null,
            "visibility": null,
            "width": null
          }
        },
        "61f173e8f7ee4814a7769d85d036a8cc": {
          "model_module": "@jupyter-widgets/controls",
          "model_name": "ProgressStyleModel",
          "model_module_version": "1.5.0",
          "state": {
            "_model_module": "@jupyter-widgets/controls",
            "_model_module_version": "1.5.0",
            "_model_name": "ProgressStyleModel",
            "_view_count": null,
            "_view_module": "@jupyter-widgets/base",
            "_view_module_version": "1.2.0",
            "_view_name": "StyleView",
            "bar_color": null,
            "description_width": ""
          }
        },
        "c5d9f6f529a844748aa894e457e76538": {
          "model_module": "@jupyter-widgets/base",
          "model_name": "LayoutModel",
          "model_module_version": "1.2.0",
          "state": {
            "_model_module": "@jupyter-widgets/base",
            "_model_module_version": "1.2.0",
            "_model_name": "LayoutModel",
            "_view_count": null,
            "_view_module": "@jupyter-widgets/base",
            "_view_module_version": "1.2.0",
            "_view_name": "LayoutView",
            "align_content": null,
            "align_items": null,
            "align_self": null,
            "border": null,
            "bottom": null,
            "display": null,
            "flex": null,
            "flex_flow": null,
            "grid_area": null,
            "grid_auto_columns": null,
            "grid_auto_flow": null,
            "grid_auto_rows": null,
            "grid_column": null,
            "grid_gap": null,
            "grid_row": null,
            "grid_template_areas": null,
            "grid_template_columns": null,
            "grid_template_rows": null,
            "height": null,
            "justify_content": null,
            "justify_items": null,
            "left": null,
            "margin": null,
            "max_height": null,
            "max_width": null,
            "min_height": null,
            "min_width": null,
            "object_fit": null,
            "object_position": null,
            "order": null,
            "overflow": null,
            "overflow_x": null,
            "overflow_y": null,
            "padding": null,
            "right": null,
            "top": null,
            "visibility": null,
            "width": null
          }
        },
        "46ccab1518cd4fdb8bb15cf0c3a8510a": {
          "model_module": "@jupyter-widgets/controls",
          "model_name": "DescriptionStyleModel",
          "model_module_version": "1.5.0",
          "state": {
            "_model_module": "@jupyter-widgets/controls",
            "_model_module_version": "1.5.0",
            "_model_name": "DescriptionStyleModel",
            "_view_count": null,
            "_view_module": "@jupyter-widgets/base",
            "_view_module_version": "1.2.0",
            "_view_name": "StyleView",
            "description_width": ""
          }
        },
        "7e3896e9588c497d975908360fabb3ff": {
          "model_module": "@jupyter-widgets/controls",
          "model_name": "HBoxModel",
          "model_module_version": "1.5.0",
          "state": {
            "_dom_classes": [],
            "_model_module": "@jupyter-widgets/controls",
            "_model_module_version": "1.5.0",
            "_model_name": "HBoxModel",
            "_view_count": null,
            "_view_module": "@jupyter-widgets/controls",
            "_view_module_version": "1.5.0",
            "_view_name": "HBoxView",
            "box_style": "",
            "children": [
              "IPY_MODEL_6fd6b094e9bd438c846f9aae9f0ee854",
              "IPY_MODEL_35767a2b807a481281856af025156ce1",
              "IPY_MODEL_4bc5702c8de7425290f6fd5bed6d7de4"
            ],
            "layout": "IPY_MODEL_bce36d34a31c44cd9a9a962e8f3d9035"
          }
        },
        "6fd6b094e9bd438c846f9aae9f0ee854": {
          "model_module": "@jupyter-widgets/controls",
          "model_name": "HTMLModel",
          "model_module_version": "1.5.0",
          "state": {
            "_dom_classes": [],
            "_model_module": "@jupyter-widgets/controls",
            "_model_module_version": "1.5.0",
            "_model_name": "HTMLModel",
            "_view_count": null,
            "_view_module": "@jupyter-widgets/controls",
            "_view_module_version": "1.5.0",
            "_view_name": "HTMLView",
            "description": "",
            "description_tooltip": null,
            "layout": "IPY_MODEL_9d8a6cc061d44dd4ac180120a0a5e2c3",
            "placeholder": "​",
            "style": "IPY_MODEL_af652083432a4b38a5f8eeb36270724f",
            "value": "100%"
          }
        },
        "35767a2b807a481281856af025156ce1": {
          "model_module": "@jupyter-widgets/controls",
          "model_name": "FloatProgressModel",
          "model_module_version": "1.5.0",
          "state": {
            "_dom_classes": [],
            "_model_module": "@jupyter-widgets/controls",
            "_model_module_version": "1.5.0",
            "_model_name": "FloatProgressModel",
            "_view_count": null,
            "_view_module": "@jupyter-widgets/controls",
            "_view_module_version": "1.5.0",
            "_view_name": "ProgressView",
            "bar_style": "success",
            "description": "",
            "description_tooltip": null,
            "layout": "IPY_MODEL_76d40861eec34b608b1c8ca18aec5359",
            "max": 5000,
            "min": 0,
            "orientation": "horizontal",
            "style": "IPY_MODEL_45882e6accc448708386530986f053df",
            "value": 5000
          }
        },
        "4bc5702c8de7425290f6fd5bed6d7de4": {
          "model_module": "@jupyter-widgets/controls",
          "model_name": "HTMLModel",
          "model_module_version": "1.5.0",
          "state": {
            "_dom_classes": [],
            "_model_module": "@jupyter-widgets/controls",
            "_model_module_version": "1.5.0",
            "_model_name": "HTMLModel",
            "_view_count": null,
            "_view_module": "@jupyter-widgets/controls",
            "_view_module_version": "1.5.0",
            "_view_name": "HTMLView",
            "description": "",
            "description_tooltip": null,
            "layout": "IPY_MODEL_676aa3828b334f4381c1188ce1dc67ca",
            "placeholder": "​",
            "style": "IPY_MODEL_8b2369ad59e24cbbb26fe70bee4fdf63",
            "value": " 5000/5000 [01:09&lt;00:00, 106.48it/s]"
          }
        },
        "bce36d34a31c44cd9a9a962e8f3d9035": {
          "model_module": "@jupyter-widgets/base",
          "model_name": "LayoutModel",
          "model_module_version": "1.2.0",
          "state": {
            "_model_module": "@jupyter-widgets/base",
            "_model_module_version": "1.2.0",
            "_model_name": "LayoutModel",
            "_view_count": null,
            "_view_module": "@jupyter-widgets/base",
            "_view_module_version": "1.2.0",
            "_view_name": "LayoutView",
            "align_content": null,
            "align_items": null,
            "align_self": null,
            "border": null,
            "bottom": null,
            "display": null,
            "flex": null,
            "flex_flow": null,
            "grid_area": null,
            "grid_auto_columns": null,
            "grid_auto_flow": null,
            "grid_auto_rows": null,
            "grid_column": null,
            "grid_gap": null,
            "grid_row": null,
            "grid_template_areas": null,
            "grid_template_columns": null,
            "grid_template_rows": null,
            "height": null,
            "justify_content": null,
            "justify_items": null,
            "left": null,
            "margin": null,
            "max_height": null,
            "max_width": null,
            "min_height": null,
            "min_width": null,
            "object_fit": null,
            "object_position": null,
            "order": null,
            "overflow": null,
            "overflow_x": null,
            "overflow_y": null,
            "padding": null,
            "right": null,
            "top": null,
            "visibility": null,
            "width": null
          }
        },
        "9d8a6cc061d44dd4ac180120a0a5e2c3": {
          "model_module": "@jupyter-widgets/base",
          "model_name": "LayoutModel",
          "model_module_version": "1.2.0",
          "state": {
            "_model_module": "@jupyter-widgets/base",
            "_model_module_version": "1.2.0",
            "_model_name": "LayoutModel",
            "_view_count": null,
            "_view_module": "@jupyter-widgets/base",
            "_view_module_version": "1.2.0",
            "_view_name": "LayoutView",
            "align_content": null,
            "align_items": null,
            "align_self": null,
            "border": null,
            "bottom": null,
            "display": null,
            "flex": null,
            "flex_flow": null,
            "grid_area": null,
            "grid_auto_columns": null,
            "grid_auto_flow": null,
            "grid_auto_rows": null,
            "grid_column": null,
            "grid_gap": null,
            "grid_row": null,
            "grid_template_areas": null,
            "grid_template_columns": null,
            "grid_template_rows": null,
            "height": null,
            "justify_content": null,
            "justify_items": null,
            "left": null,
            "margin": null,
            "max_height": null,
            "max_width": null,
            "min_height": null,
            "min_width": null,
            "object_fit": null,
            "object_position": null,
            "order": null,
            "overflow": null,
            "overflow_x": null,
            "overflow_y": null,
            "padding": null,
            "right": null,
            "top": null,
            "visibility": null,
            "width": null
          }
        },
        "af652083432a4b38a5f8eeb36270724f": {
          "model_module": "@jupyter-widgets/controls",
          "model_name": "DescriptionStyleModel",
          "model_module_version": "1.5.0",
          "state": {
            "_model_module": "@jupyter-widgets/controls",
            "_model_module_version": "1.5.0",
            "_model_name": "DescriptionStyleModel",
            "_view_count": null,
            "_view_module": "@jupyter-widgets/base",
            "_view_module_version": "1.2.0",
            "_view_name": "StyleView",
            "description_width": ""
          }
        },
        "76d40861eec34b608b1c8ca18aec5359": {
          "model_module": "@jupyter-widgets/base",
          "model_name": "LayoutModel",
          "model_module_version": "1.2.0",
          "state": {
            "_model_module": "@jupyter-widgets/base",
            "_model_module_version": "1.2.0",
            "_model_name": "LayoutModel",
            "_view_count": null,
            "_view_module": "@jupyter-widgets/base",
            "_view_module_version": "1.2.0",
            "_view_name": "LayoutView",
            "align_content": null,
            "align_items": null,
            "align_self": null,
            "border": null,
            "bottom": null,
            "display": null,
            "flex": null,
            "flex_flow": null,
            "grid_area": null,
            "grid_auto_columns": null,
            "grid_auto_flow": null,
            "grid_auto_rows": null,
            "grid_column": null,
            "grid_gap": null,
            "grid_row": null,
            "grid_template_areas": null,
            "grid_template_columns": null,
            "grid_template_rows": null,
            "height": null,
            "justify_content": null,
            "justify_items": null,
            "left": null,
            "margin": null,
            "max_height": null,
            "max_width": null,
            "min_height": null,
            "min_width": null,
            "object_fit": null,
            "object_position": null,
            "order": null,
            "overflow": null,
            "overflow_x": null,
            "overflow_y": null,
            "padding": null,
            "right": null,
            "top": null,
            "visibility": null,
            "width": null
          }
        },
        "45882e6accc448708386530986f053df": {
          "model_module": "@jupyter-widgets/controls",
          "model_name": "ProgressStyleModel",
          "model_module_version": "1.5.0",
          "state": {
            "_model_module": "@jupyter-widgets/controls",
            "_model_module_version": "1.5.0",
            "_model_name": "ProgressStyleModel",
            "_view_count": null,
            "_view_module": "@jupyter-widgets/base",
            "_view_module_version": "1.2.0",
            "_view_name": "StyleView",
            "bar_color": null,
            "description_width": ""
          }
        },
        "676aa3828b334f4381c1188ce1dc67ca": {
          "model_module": "@jupyter-widgets/base",
          "model_name": "LayoutModel",
          "model_module_version": "1.2.0",
          "state": {
            "_model_module": "@jupyter-widgets/base",
            "_model_module_version": "1.2.0",
            "_model_name": "LayoutModel",
            "_view_count": null,
            "_view_module": "@jupyter-widgets/base",
            "_view_module_version": "1.2.0",
            "_view_name": "LayoutView",
            "align_content": null,
            "align_items": null,
            "align_self": null,
            "border": null,
            "bottom": null,
            "display": null,
            "flex": null,
            "flex_flow": null,
            "grid_area": null,
            "grid_auto_columns": null,
            "grid_auto_flow": null,
            "grid_auto_rows": null,
            "grid_column": null,
            "grid_gap": null,
            "grid_row": null,
            "grid_template_areas": null,
            "grid_template_columns": null,
            "grid_template_rows": null,
            "height": null,
            "justify_content": null,
            "justify_items": null,
            "left": null,
            "margin": null,
            "max_height": null,
            "max_width": null,
            "min_height": null,
            "min_width": null,
            "object_fit": null,
            "object_position": null,
            "order": null,
            "overflow": null,
            "overflow_x": null,
            "overflow_y": null,
            "padding": null,
            "right": null,
            "top": null,
            "visibility": null,
            "width": null
          }
        },
        "8b2369ad59e24cbbb26fe70bee4fdf63": {
          "model_module": "@jupyter-widgets/controls",
          "model_name": "DescriptionStyleModel",
          "model_module_version": "1.5.0",
          "state": {
            "_model_module": "@jupyter-widgets/controls",
            "_model_module_version": "1.5.0",
            "_model_name": "DescriptionStyleModel",
            "_view_count": null,
            "_view_module": "@jupyter-widgets/base",
            "_view_module_version": "1.2.0",
            "_view_name": "StyleView",
            "description_width": ""
          }
        },
        "969c8e953c6b48c6a3a65807a4075786": {
          "model_module": "@jupyter-widgets/controls",
          "model_name": "HBoxModel",
          "model_module_version": "1.5.0",
          "state": {
            "_dom_classes": [],
            "_model_module": "@jupyter-widgets/controls",
            "_model_module_version": "1.5.0",
            "_model_name": "HBoxModel",
            "_view_count": null,
            "_view_module": "@jupyter-widgets/controls",
            "_view_module_version": "1.5.0",
            "_view_name": "HBoxView",
            "box_style": "",
            "children": [
              "IPY_MODEL_6e8fa798088648b790ea767d2dc16df0",
              "IPY_MODEL_1e7fd39ad41c4ed99db9974489c878fd",
              "IPY_MODEL_8691168ae12c40cb8fb4a7eefb373b91"
            ],
            "layout": "IPY_MODEL_7efa4b34054c43758e44c694abbce2d6"
          }
        },
        "6e8fa798088648b790ea767d2dc16df0": {
          "model_module": "@jupyter-widgets/controls",
          "model_name": "HTMLModel",
          "model_module_version": "1.5.0",
          "state": {
            "_dom_classes": [],
            "_model_module": "@jupyter-widgets/controls",
            "_model_module_version": "1.5.0",
            "_model_name": "HTMLModel",
            "_view_count": null,
            "_view_module": "@jupyter-widgets/controls",
            "_view_module_version": "1.5.0",
            "_view_name": "HTMLView",
            "description": "",
            "description_tooltip": null,
            "layout": "IPY_MODEL_52263888f5c64be386137025bd5deb40",
            "placeholder": "​",
            "style": "IPY_MODEL_35055ceeb1f240d59e1cb823d1e3aac3",
            "value": "100%"
          }
        },
        "1e7fd39ad41c4ed99db9974489c878fd": {
          "model_module": "@jupyter-widgets/controls",
          "model_name": "FloatProgressModel",
          "model_module_version": "1.5.0",
          "state": {
            "_dom_classes": [],
            "_model_module": "@jupyter-widgets/controls",
            "_model_module_version": "1.5.0",
            "_model_name": "FloatProgressModel",
            "_view_count": null,
            "_view_module": "@jupyter-widgets/controls",
            "_view_module_version": "1.5.0",
            "_view_name": "ProgressView",
            "bar_style": "success",
            "description": "",
            "description_tooltip": null,
            "layout": "IPY_MODEL_f7c40214bbb4425fbb511fb4bfc6052d",
            "max": 100,
            "min": 0,
            "orientation": "horizontal",
            "style": "IPY_MODEL_2d92a65104ac4649898083662e2abcf7",
            "value": 100
          }
        },
        "8691168ae12c40cb8fb4a7eefb373b91": {
          "model_module": "@jupyter-widgets/controls",
          "model_name": "HTMLModel",
          "model_module_version": "1.5.0",
          "state": {
            "_dom_classes": [],
            "_model_module": "@jupyter-widgets/controls",
            "_model_module_version": "1.5.0",
            "_model_name": "HTMLModel",
            "_view_count": null,
            "_view_module": "@jupyter-widgets/controls",
            "_view_module_version": "1.5.0",
            "_view_name": "HTMLView",
            "description": "",
            "description_tooltip": null,
            "layout": "IPY_MODEL_22265f5d31534cd9842ac53ab64557dc",
            "placeholder": "​",
            "style": "IPY_MODEL_f445713f83514c0083322749728b7bed",
            "value": " 100/100 [00:02&lt;00:00, 64.55it/s]"
          }
        },
        "7efa4b34054c43758e44c694abbce2d6": {
          "model_module": "@jupyter-widgets/base",
          "model_name": "LayoutModel",
          "model_module_version": "1.2.0",
          "state": {
            "_model_module": "@jupyter-widgets/base",
            "_model_module_version": "1.2.0",
            "_model_name": "LayoutModel",
            "_view_count": null,
            "_view_module": "@jupyter-widgets/base",
            "_view_module_version": "1.2.0",
            "_view_name": "LayoutView",
            "align_content": null,
            "align_items": null,
            "align_self": null,
            "border": null,
            "bottom": null,
            "display": null,
            "flex": null,
            "flex_flow": null,
            "grid_area": null,
            "grid_auto_columns": null,
            "grid_auto_flow": null,
            "grid_auto_rows": null,
            "grid_column": null,
            "grid_gap": null,
            "grid_row": null,
            "grid_template_areas": null,
            "grid_template_columns": null,
            "grid_template_rows": null,
            "height": null,
            "justify_content": null,
            "justify_items": null,
            "left": null,
            "margin": null,
            "max_height": null,
            "max_width": null,
            "min_height": null,
            "min_width": null,
            "object_fit": null,
            "object_position": null,
            "order": null,
            "overflow": null,
            "overflow_x": null,
            "overflow_y": null,
            "padding": null,
            "right": null,
            "top": null,
            "visibility": null,
            "width": null
          }
        },
        "52263888f5c64be386137025bd5deb40": {
          "model_module": "@jupyter-widgets/base",
          "model_name": "LayoutModel",
          "model_module_version": "1.2.0",
          "state": {
            "_model_module": "@jupyter-widgets/base",
            "_model_module_version": "1.2.0",
            "_model_name": "LayoutModel",
            "_view_count": null,
            "_view_module": "@jupyter-widgets/base",
            "_view_module_version": "1.2.0",
            "_view_name": "LayoutView",
            "align_content": null,
            "align_items": null,
            "align_self": null,
            "border": null,
            "bottom": null,
            "display": null,
            "flex": null,
            "flex_flow": null,
            "grid_area": null,
            "grid_auto_columns": null,
            "grid_auto_flow": null,
            "grid_auto_rows": null,
            "grid_column": null,
            "grid_gap": null,
            "grid_row": null,
            "grid_template_areas": null,
            "grid_template_columns": null,
            "grid_template_rows": null,
            "height": null,
            "justify_content": null,
            "justify_items": null,
            "left": null,
            "margin": null,
            "max_height": null,
            "max_width": null,
            "min_height": null,
            "min_width": null,
            "object_fit": null,
            "object_position": null,
            "order": null,
            "overflow": null,
            "overflow_x": null,
            "overflow_y": null,
            "padding": null,
            "right": null,
            "top": null,
            "visibility": null,
            "width": null
          }
        },
        "35055ceeb1f240d59e1cb823d1e3aac3": {
          "model_module": "@jupyter-widgets/controls",
          "model_name": "DescriptionStyleModel",
          "model_module_version": "1.5.0",
          "state": {
            "_model_module": "@jupyter-widgets/controls",
            "_model_module_version": "1.5.0",
            "_model_name": "DescriptionStyleModel",
            "_view_count": null,
            "_view_module": "@jupyter-widgets/base",
            "_view_module_version": "1.2.0",
            "_view_name": "StyleView",
            "description_width": ""
          }
        },
        "f7c40214bbb4425fbb511fb4bfc6052d": {
          "model_module": "@jupyter-widgets/base",
          "model_name": "LayoutModel",
          "model_module_version": "1.2.0",
          "state": {
            "_model_module": "@jupyter-widgets/base",
            "_model_module_version": "1.2.0",
            "_model_name": "LayoutModel",
            "_view_count": null,
            "_view_module": "@jupyter-widgets/base",
            "_view_module_version": "1.2.0",
            "_view_name": "LayoutView",
            "align_content": null,
            "align_items": null,
            "align_self": null,
            "border": null,
            "bottom": null,
            "display": null,
            "flex": null,
            "flex_flow": null,
            "grid_area": null,
            "grid_auto_columns": null,
            "grid_auto_flow": null,
            "grid_auto_rows": null,
            "grid_column": null,
            "grid_gap": null,
            "grid_row": null,
            "grid_template_areas": null,
            "grid_template_columns": null,
            "grid_template_rows": null,
            "height": null,
            "justify_content": null,
            "justify_items": null,
            "left": null,
            "margin": null,
            "max_height": null,
            "max_width": null,
            "min_height": null,
            "min_width": null,
            "object_fit": null,
            "object_position": null,
            "order": null,
            "overflow": null,
            "overflow_x": null,
            "overflow_y": null,
            "padding": null,
            "right": null,
            "top": null,
            "visibility": null,
            "width": null
          }
        },
        "2d92a65104ac4649898083662e2abcf7": {
          "model_module": "@jupyter-widgets/controls",
          "model_name": "ProgressStyleModel",
          "model_module_version": "1.5.0",
          "state": {
            "_model_module": "@jupyter-widgets/controls",
            "_model_module_version": "1.5.0",
            "_model_name": "ProgressStyleModel",
            "_view_count": null,
            "_view_module": "@jupyter-widgets/base",
            "_view_module_version": "1.2.0",
            "_view_name": "StyleView",
            "bar_color": null,
            "description_width": ""
          }
        },
        "22265f5d31534cd9842ac53ab64557dc": {
          "model_module": "@jupyter-widgets/base",
          "model_name": "LayoutModel",
          "model_module_version": "1.2.0",
          "state": {
            "_model_module": "@jupyter-widgets/base",
            "_model_module_version": "1.2.0",
            "_model_name": "LayoutModel",
            "_view_count": null,
            "_view_module": "@jupyter-widgets/base",
            "_view_module_version": "1.2.0",
            "_view_name": "LayoutView",
            "align_content": null,
            "align_items": null,
            "align_self": null,
            "border": null,
            "bottom": null,
            "display": null,
            "flex": null,
            "flex_flow": null,
            "grid_area": null,
            "grid_auto_columns": null,
            "grid_auto_flow": null,
            "grid_auto_rows": null,
            "grid_column": null,
            "grid_gap": null,
            "grid_row": null,
            "grid_template_areas": null,
            "grid_template_columns": null,
            "grid_template_rows": null,
            "height": null,
            "justify_content": null,
            "justify_items": null,
            "left": null,
            "margin": null,
            "max_height": null,
            "max_width": null,
            "min_height": null,
            "min_width": null,
            "object_fit": null,
            "object_position": null,
            "order": null,
            "overflow": null,
            "overflow_x": null,
            "overflow_y": null,
            "padding": null,
            "right": null,
            "top": null,
            "visibility": null,
            "width": null
          }
        },
        "f445713f83514c0083322749728b7bed": {
          "model_module": "@jupyter-widgets/controls",
          "model_name": "DescriptionStyleModel",
          "model_module_version": "1.5.0",
          "state": {
            "_model_module": "@jupyter-widgets/controls",
            "_model_module_version": "1.5.0",
            "_model_name": "DescriptionStyleModel",
            "_view_count": null,
            "_view_module": "@jupyter-widgets/base",
            "_view_module_version": "1.2.0",
            "_view_name": "StyleView",
            "description_width": ""
          }
        },
        "a16a2502de3846f69c8063e935c3ffcc": {
          "model_module": "@jupyter-widgets/controls",
          "model_name": "HBoxModel",
          "model_module_version": "1.5.0",
          "state": {
            "_dom_classes": [],
            "_model_module": "@jupyter-widgets/controls",
            "_model_module_version": "1.5.0",
            "_model_name": "HBoxModel",
            "_view_count": null,
            "_view_module": "@jupyter-widgets/controls",
            "_view_module_version": "1.5.0",
            "_view_name": "HBoxView",
            "box_style": "",
            "children": [
              "IPY_MODEL_3d011c3db888423e9e2020d20cf9c80e",
              "IPY_MODEL_526be27f2da14450bbc7cf03e9deb89f",
              "IPY_MODEL_114cdc5708d444b788735a5248cb20c6"
            ],
            "layout": "IPY_MODEL_c835a24486bb41c8adf3e522d85e5735"
          }
        },
        "3d011c3db888423e9e2020d20cf9c80e": {
          "model_module": "@jupyter-widgets/controls",
          "model_name": "HTMLModel",
          "model_module_version": "1.5.0",
          "state": {
            "_dom_classes": [],
            "_model_module": "@jupyter-widgets/controls",
            "_model_module_version": "1.5.0",
            "_model_name": "HTMLModel",
            "_view_count": null,
            "_view_module": "@jupyter-widgets/controls",
            "_view_module_version": "1.5.0",
            "_view_name": "HTMLView",
            "description": "",
            "description_tooltip": null,
            "layout": "IPY_MODEL_c7170ea5af704a9ba34a8318e75dc698",
            "placeholder": "​",
            "style": "IPY_MODEL_0cee8fefa37844b1882d259917b7ec74",
            "value": "100%"
          }
        },
        "526be27f2da14450bbc7cf03e9deb89f": {
          "model_module": "@jupyter-widgets/controls",
          "model_name": "FloatProgressModel",
          "model_module_version": "1.5.0",
          "state": {
            "_dom_classes": [],
            "_model_module": "@jupyter-widgets/controls",
            "_model_module_version": "1.5.0",
            "_model_name": "FloatProgressModel",
            "_view_count": null,
            "_view_module": "@jupyter-widgets/controls",
            "_view_module_version": "1.5.0",
            "_view_name": "ProgressView",
            "bar_style": "success",
            "description": "",
            "description_tooltip": null,
            "layout": "IPY_MODEL_d4c86fcf0ca44c56af7abc692ff5e966",
            "max": 100,
            "min": 0,
            "orientation": "horizontal",
            "style": "IPY_MODEL_9f3a2ba9e5cd40a887c0493b3b130173",
            "value": 100
          }
        },
        "114cdc5708d444b788735a5248cb20c6": {
          "model_module": "@jupyter-widgets/controls",
          "model_name": "HTMLModel",
          "model_module_version": "1.5.0",
          "state": {
            "_dom_classes": [],
            "_model_module": "@jupyter-widgets/controls",
            "_model_module_version": "1.5.0",
            "_model_name": "HTMLModel",
            "_view_count": null,
            "_view_module": "@jupyter-widgets/controls",
            "_view_module_version": "1.5.0",
            "_view_name": "HTMLView",
            "description": "",
            "description_tooltip": null,
            "layout": "IPY_MODEL_aa992413388b406c9ceb5088b350d7b8",
            "placeholder": "​",
            "style": "IPY_MODEL_617b707985ce40e694d71f8eead2916f",
            "value": " 100/100 [00:00&lt;00:00, 97.71it/s]"
          }
        },
        "c835a24486bb41c8adf3e522d85e5735": {
          "model_module": "@jupyter-widgets/base",
          "model_name": "LayoutModel",
          "model_module_version": "1.2.0",
          "state": {
            "_model_module": "@jupyter-widgets/base",
            "_model_module_version": "1.2.0",
            "_model_name": "LayoutModel",
            "_view_count": null,
            "_view_module": "@jupyter-widgets/base",
            "_view_module_version": "1.2.0",
            "_view_name": "LayoutView",
            "align_content": null,
            "align_items": null,
            "align_self": null,
            "border": null,
            "bottom": null,
            "display": null,
            "flex": null,
            "flex_flow": null,
            "grid_area": null,
            "grid_auto_columns": null,
            "grid_auto_flow": null,
            "grid_auto_rows": null,
            "grid_column": null,
            "grid_gap": null,
            "grid_row": null,
            "grid_template_areas": null,
            "grid_template_columns": null,
            "grid_template_rows": null,
            "height": null,
            "justify_content": null,
            "justify_items": null,
            "left": null,
            "margin": null,
            "max_height": null,
            "max_width": null,
            "min_height": null,
            "min_width": null,
            "object_fit": null,
            "object_position": null,
            "order": null,
            "overflow": null,
            "overflow_x": null,
            "overflow_y": null,
            "padding": null,
            "right": null,
            "top": null,
            "visibility": null,
            "width": null
          }
        },
        "c7170ea5af704a9ba34a8318e75dc698": {
          "model_module": "@jupyter-widgets/base",
          "model_name": "LayoutModel",
          "model_module_version": "1.2.0",
          "state": {
            "_model_module": "@jupyter-widgets/base",
            "_model_module_version": "1.2.0",
            "_model_name": "LayoutModel",
            "_view_count": null,
            "_view_module": "@jupyter-widgets/base",
            "_view_module_version": "1.2.0",
            "_view_name": "LayoutView",
            "align_content": null,
            "align_items": null,
            "align_self": null,
            "border": null,
            "bottom": null,
            "display": null,
            "flex": null,
            "flex_flow": null,
            "grid_area": null,
            "grid_auto_columns": null,
            "grid_auto_flow": null,
            "grid_auto_rows": null,
            "grid_column": null,
            "grid_gap": null,
            "grid_row": null,
            "grid_template_areas": null,
            "grid_template_columns": null,
            "grid_template_rows": null,
            "height": null,
            "justify_content": null,
            "justify_items": null,
            "left": null,
            "margin": null,
            "max_height": null,
            "max_width": null,
            "min_height": null,
            "min_width": null,
            "object_fit": null,
            "object_position": null,
            "order": null,
            "overflow": null,
            "overflow_x": null,
            "overflow_y": null,
            "padding": null,
            "right": null,
            "top": null,
            "visibility": null,
            "width": null
          }
        },
        "0cee8fefa37844b1882d259917b7ec74": {
          "model_module": "@jupyter-widgets/controls",
          "model_name": "DescriptionStyleModel",
          "model_module_version": "1.5.0",
          "state": {
            "_model_module": "@jupyter-widgets/controls",
            "_model_module_version": "1.5.0",
            "_model_name": "DescriptionStyleModel",
            "_view_count": null,
            "_view_module": "@jupyter-widgets/base",
            "_view_module_version": "1.2.0",
            "_view_name": "StyleView",
            "description_width": ""
          }
        },
        "d4c86fcf0ca44c56af7abc692ff5e966": {
          "model_module": "@jupyter-widgets/base",
          "model_name": "LayoutModel",
          "model_module_version": "1.2.0",
          "state": {
            "_model_module": "@jupyter-widgets/base",
            "_model_module_version": "1.2.0",
            "_model_name": "LayoutModel",
            "_view_count": null,
            "_view_module": "@jupyter-widgets/base",
            "_view_module_version": "1.2.0",
            "_view_name": "LayoutView",
            "align_content": null,
            "align_items": null,
            "align_self": null,
            "border": null,
            "bottom": null,
            "display": null,
            "flex": null,
            "flex_flow": null,
            "grid_area": null,
            "grid_auto_columns": null,
            "grid_auto_flow": null,
            "grid_auto_rows": null,
            "grid_column": null,
            "grid_gap": null,
            "grid_row": null,
            "grid_template_areas": null,
            "grid_template_columns": null,
            "grid_template_rows": null,
            "height": null,
            "justify_content": null,
            "justify_items": null,
            "left": null,
            "margin": null,
            "max_height": null,
            "max_width": null,
            "min_height": null,
            "min_width": null,
            "object_fit": null,
            "object_position": null,
            "order": null,
            "overflow": null,
            "overflow_x": null,
            "overflow_y": null,
            "padding": null,
            "right": null,
            "top": null,
            "visibility": null,
            "width": null
          }
        },
        "9f3a2ba9e5cd40a887c0493b3b130173": {
          "model_module": "@jupyter-widgets/controls",
          "model_name": "ProgressStyleModel",
          "model_module_version": "1.5.0",
          "state": {
            "_model_module": "@jupyter-widgets/controls",
            "_model_module_version": "1.5.0",
            "_model_name": "ProgressStyleModel",
            "_view_count": null,
            "_view_module": "@jupyter-widgets/base",
            "_view_module_version": "1.2.0",
            "_view_name": "StyleView",
            "bar_color": null,
            "description_width": ""
          }
        },
        "aa992413388b406c9ceb5088b350d7b8": {
          "model_module": "@jupyter-widgets/base",
          "model_name": "LayoutModel",
          "model_module_version": "1.2.0",
          "state": {
            "_model_module": "@jupyter-widgets/base",
            "_model_module_version": "1.2.0",
            "_model_name": "LayoutModel",
            "_view_count": null,
            "_view_module": "@jupyter-widgets/base",
            "_view_module_version": "1.2.0",
            "_view_name": "LayoutView",
            "align_content": null,
            "align_items": null,
            "align_self": null,
            "border": null,
            "bottom": null,
            "display": null,
            "flex": null,
            "flex_flow": null,
            "grid_area": null,
            "grid_auto_columns": null,
            "grid_auto_flow": null,
            "grid_auto_rows": null,
            "grid_column": null,
            "grid_gap": null,
            "grid_row": null,
            "grid_template_areas": null,
            "grid_template_columns": null,
            "grid_template_rows": null,
            "height": null,
            "justify_content": null,
            "justify_items": null,
            "left": null,
            "margin": null,
            "max_height": null,
            "max_width": null,
            "min_height": null,
            "min_width": null,
            "object_fit": null,
            "object_position": null,
            "order": null,
            "overflow": null,
            "overflow_x": null,
            "overflow_y": null,
            "padding": null,
            "right": null,
            "top": null,
            "visibility": null,
            "width": null
          }
        },
        "617b707985ce40e694d71f8eead2916f": {
          "model_module": "@jupyter-widgets/controls",
          "model_name": "DescriptionStyleModel",
          "model_module_version": "1.5.0",
          "state": {
            "_model_module": "@jupyter-widgets/controls",
            "_model_module_version": "1.5.0",
            "_model_name": "DescriptionStyleModel",
            "_view_count": null,
            "_view_module": "@jupyter-widgets/base",
            "_view_module_version": "1.2.0",
            "_view_name": "StyleView",
            "description_width": ""
          }
        },
        "bc32cd63586e4ca9bdb51e1c92927805": {
          "model_module": "@jupyter-widgets/controls",
          "model_name": "HBoxModel",
          "model_module_version": "1.5.0",
          "state": {
            "_dom_classes": [],
            "_model_module": "@jupyter-widgets/controls",
            "_model_module_version": "1.5.0",
            "_model_name": "HBoxModel",
            "_view_count": null,
            "_view_module": "@jupyter-widgets/controls",
            "_view_module_version": "1.5.0",
            "_view_name": "HBoxView",
            "box_style": "",
            "children": [
              "IPY_MODEL_c7da4979275e4cdeb3163b683e732aef",
              "IPY_MODEL_b9fcd78439de4f4cae57d44e6d84ae90",
              "IPY_MODEL_95acad48431c4701a9e12efbfe4d2e28"
            ],
            "layout": "IPY_MODEL_6fdf3255fd4541ca968dda8ef4a99a3b"
          }
        },
        "c7da4979275e4cdeb3163b683e732aef": {
          "model_module": "@jupyter-widgets/controls",
          "model_name": "HTMLModel",
          "model_module_version": "1.5.0",
          "state": {
            "_dom_classes": [],
            "_model_module": "@jupyter-widgets/controls",
            "_model_module_version": "1.5.0",
            "_model_name": "HTMLModel",
            "_view_count": null,
            "_view_module": "@jupyter-widgets/controls",
            "_view_module_version": "1.5.0",
            "_view_name": "HTMLView",
            "description": "",
            "description_tooltip": null,
            "layout": "IPY_MODEL_e04c2ee6b2974b74a42df4d93b46547a",
            "placeholder": "​",
            "style": "IPY_MODEL_4866ff6ee7dd4bf9895d74d827f436d9",
            "value": "100%"
          }
        },
        "b9fcd78439de4f4cae57d44e6d84ae90": {
          "model_module": "@jupyter-widgets/controls",
          "model_name": "FloatProgressModel",
          "model_module_version": "1.5.0",
          "state": {
            "_dom_classes": [],
            "_model_module": "@jupyter-widgets/controls",
            "_model_module_version": "1.5.0",
            "_model_name": "FloatProgressModel",
            "_view_count": null,
            "_view_module": "@jupyter-widgets/controls",
            "_view_module_version": "1.5.0",
            "_view_name": "ProgressView",
            "bar_style": "success",
            "description": "",
            "description_tooltip": null,
            "layout": "IPY_MODEL_4701bb8f6ff1402dbb8113d92f9e67f1",
            "max": 100,
            "min": 0,
            "orientation": "horizontal",
            "style": "IPY_MODEL_3d52cadba08e4cae9791efecb654f2c5",
            "value": 100
          }
        },
        "95acad48431c4701a9e12efbfe4d2e28": {
          "model_module": "@jupyter-widgets/controls",
          "model_name": "HTMLModel",
          "model_module_version": "1.5.0",
          "state": {
            "_dom_classes": [],
            "_model_module": "@jupyter-widgets/controls",
            "_model_module_version": "1.5.0",
            "_model_name": "HTMLModel",
            "_view_count": null,
            "_view_module": "@jupyter-widgets/controls",
            "_view_module_version": "1.5.0",
            "_view_name": "HTMLView",
            "description": "",
            "description_tooltip": null,
            "layout": "IPY_MODEL_9edbd3a99f604aa69c07672ad80ebee6",
            "placeholder": "​",
            "style": "IPY_MODEL_f9e92bf4235540d49c1c206c0ba24577",
            "value": " 100/100 [00:00&lt;00:00, 173.16it/s]"
          }
        },
        "6fdf3255fd4541ca968dda8ef4a99a3b": {
          "model_module": "@jupyter-widgets/base",
          "model_name": "LayoutModel",
          "model_module_version": "1.2.0",
          "state": {
            "_model_module": "@jupyter-widgets/base",
            "_model_module_version": "1.2.0",
            "_model_name": "LayoutModel",
            "_view_count": null,
            "_view_module": "@jupyter-widgets/base",
            "_view_module_version": "1.2.0",
            "_view_name": "LayoutView",
            "align_content": null,
            "align_items": null,
            "align_self": null,
            "border": null,
            "bottom": null,
            "display": null,
            "flex": null,
            "flex_flow": null,
            "grid_area": null,
            "grid_auto_columns": null,
            "grid_auto_flow": null,
            "grid_auto_rows": null,
            "grid_column": null,
            "grid_gap": null,
            "grid_row": null,
            "grid_template_areas": null,
            "grid_template_columns": null,
            "grid_template_rows": null,
            "height": null,
            "justify_content": null,
            "justify_items": null,
            "left": null,
            "margin": null,
            "max_height": null,
            "max_width": null,
            "min_height": null,
            "min_width": null,
            "object_fit": null,
            "object_position": null,
            "order": null,
            "overflow": null,
            "overflow_x": null,
            "overflow_y": null,
            "padding": null,
            "right": null,
            "top": null,
            "visibility": null,
            "width": null
          }
        },
        "e04c2ee6b2974b74a42df4d93b46547a": {
          "model_module": "@jupyter-widgets/base",
          "model_name": "LayoutModel",
          "model_module_version": "1.2.0",
          "state": {
            "_model_module": "@jupyter-widgets/base",
            "_model_module_version": "1.2.0",
            "_model_name": "LayoutModel",
            "_view_count": null,
            "_view_module": "@jupyter-widgets/base",
            "_view_module_version": "1.2.0",
            "_view_name": "LayoutView",
            "align_content": null,
            "align_items": null,
            "align_self": null,
            "border": null,
            "bottom": null,
            "display": null,
            "flex": null,
            "flex_flow": null,
            "grid_area": null,
            "grid_auto_columns": null,
            "grid_auto_flow": null,
            "grid_auto_rows": null,
            "grid_column": null,
            "grid_gap": null,
            "grid_row": null,
            "grid_template_areas": null,
            "grid_template_columns": null,
            "grid_template_rows": null,
            "height": null,
            "justify_content": null,
            "justify_items": null,
            "left": null,
            "margin": null,
            "max_height": null,
            "max_width": null,
            "min_height": null,
            "min_width": null,
            "object_fit": null,
            "object_position": null,
            "order": null,
            "overflow": null,
            "overflow_x": null,
            "overflow_y": null,
            "padding": null,
            "right": null,
            "top": null,
            "visibility": null,
            "width": null
          }
        },
        "4866ff6ee7dd4bf9895d74d827f436d9": {
          "model_module": "@jupyter-widgets/controls",
          "model_name": "DescriptionStyleModel",
          "model_module_version": "1.5.0",
          "state": {
            "_model_module": "@jupyter-widgets/controls",
            "_model_module_version": "1.5.0",
            "_model_name": "DescriptionStyleModel",
            "_view_count": null,
            "_view_module": "@jupyter-widgets/base",
            "_view_module_version": "1.2.0",
            "_view_name": "StyleView",
            "description_width": ""
          }
        },
        "4701bb8f6ff1402dbb8113d92f9e67f1": {
          "model_module": "@jupyter-widgets/base",
          "model_name": "LayoutModel",
          "model_module_version": "1.2.0",
          "state": {
            "_model_module": "@jupyter-widgets/base",
            "_model_module_version": "1.2.0",
            "_model_name": "LayoutModel",
            "_view_count": null,
            "_view_module": "@jupyter-widgets/base",
            "_view_module_version": "1.2.0",
            "_view_name": "LayoutView",
            "align_content": null,
            "align_items": null,
            "align_self": null,
            "border": null,
            "bottom": null,
            "display": null,
            "flex": null,
            "flex_flow": null,
            "grid_area": null,
            "grid_auto_columns": null,
            "grid_auto_flow": null,
            "grid_auto_rows": null,
            "grid_column": null,
            "grid_gap": null,
            "grid_row": null,
            "grid_template_areas": null,
            "grid_template_columns": null,
            "grid_template_rows": null,
            "height": null,
            "justify_content": null,
            "justify_items": null,
            "left": null,
            "margin": null,
            "max_height": null,
            "max_width": null,
            "min_height": null,
            "min_width": null,
            "object_fit": null,
            "object_position": null,
            "order": null,
            "overflow": null,
            "overflow_x": null,
            "overflow_y": null,
            "padding": null,
            "right": null,
            "top": null,
            "visibility": null,
            "width": null
          }
        },
        "3d52cadba08e4cae9791efecb654f2c5": {
          "model_module": "@jupyter-widgets/controls",
          "model_name": "ProgressStyleModel",
          "model_module_version": "1.5.0",
          "state": {
            "_model_module": "@jupyter-widgets/controls",
            "_model_module_version": "1.5.0",
            "_model_name": "ProgressStyleModel",
            "_view_count": null,
            "_view_module": "@jupyter-widgets/base",
            "_view_module_version": "1.2.0",
            "_view_name": "StyleView",
            "bar_color": null,
            "description_width": ""
          }
        },
        "9edbd3a99f604aa69c07672ad80ebee6": {
          "model_module": "@jupyter-widgets/base",
          "model_name": "LayoutModel",
          "model_module_version": "1.2.0",
          "state": {
            "_model_module": "@jupyter-widgets/base",
            "_model_module_version": "1.2.0",
            "_model_name": "LayoutModel",
            "_view_count": null,
            "_view_module": "@jupyter-widgets/base",
            "_view_module_version": "1.2.0",
            "_view_name": "LayoutView",
            "align_content": null,
            "align_items": null,
            "align_self": null,
            "border": null,
            "bottom": null,
            "display": null,
            "flex": null,
            "flex_flow": null,
            "grid_area": null,
            "grid_auto_columns": null,
            "grid_auto_flow": null,
            "grid_auto_rows": null,
            "grid_column": null,
            "grid_gap": null,
            "grid_row": null,
            "grid_template_areas": null,
            "grid_template_columns": null,
            "grid_template_rows": null,
            "height": null,
            "justify_content": null,
            "justify_items": null,
            "left": null,
            "margin": null,
            "max_height": null,
            "max_width": null,
            "min_height": null,
            "min_width": null,
            "object_fit": null,
            "object_position": null,
            "order": null,
            "overflow": null,
            "overflow_x": null,
            "overflow_y": null,
            "padding": null,
            "right": null,
            "top": null,
            "visibility": null,
            "width": null
          }
        },
        "f9e92bf4235540d49c1c206c0ba24577": {
          "model_module": "@jupyter-widgets/controls",
          "model_name": "DescriptionStyleModel",
          "model_module_version": "1.5.0",
          "state": {
            "_model_module": "@jupyter-widgets/controls",
            "_model_module_version": "1.5.0",
            "_model_name": "DescriptionStyleModel",
            "_view_count": null,
            "_view_module": "@jupyter-widgets/base",
            "_view_module_version": "1.2.0",
            "_view_name": "StyleView",
            "description_width": ""
          }
        },
        "da0a4f88e7514268a8f464b3d806b2f8": {
          "model_module": "@jupyter-widgets/controls",
          "model_name": "HBoxModel",
          "model_module_version": "1.5.0",
          "state": {
            "_dom_classes": [],
            "_model_module": "@jupyter-widgets/controls",
            "_model_module_version": "1.5.0",
            "_model_name": "HBoxModel",
            "_view_count": null,
            "_view_module": "@jupyter-widgets/controls",
            "_view_module_version": "1.5.0",
            "_view_name": "HBoxView",
            "box_style": "",
            "children": [
              "IPY_MODEL_7b577d5a2c7c4168ac8a0b1311213e44",
              "IPY_MODEL_b0392583bfcc45b38c7ac56f0e8223e3",
              "IPY_MODEL_fa269c5ccb724df783ba658b3998851a"
            ],
            "layout": "IPY_MODEL_a094aa1e76194b94bf2470ffecacb36f"
          }
        },
        "7b577d5a2c7c4168ac8a0b1311213e44": {
          "model_module": "@jupyter-widgets/controls",
          "model_name": "HTMLModel",
          "model_module_version": "1.5.0",
          "state": {
            "_dom_classes": [],
            "_model_module": "@jupyter-widgets/controls",
            "_model_module_version": "1.5.0",
            "_model_name": "HTMLModel",
            "_view_count": null,
            "_view_module": "@jupyter-widgets/controls",
            "_view_module_version": "1.5.0",
            "_view_name": "HTMLView",
            "description": "",
            "description_tooltip": null,
            "layout": "IPY_MODEL_d7fccf847f424823a14ac2dd21bf4c19",
            "placeholder": "​",
            "style": "IPY_MODEL_072e2e866f594d538f2fb3c9025ea27f",
            "value": "100%"
          }
        },
        "b0392583bfcc45b38c7ac56f0e8223e3": {
          "model_module": "@jupyter-widgets/controls",
          "model_name": "FloatProgressModel",
          "model_module_version": "1.5.0",
          "state": {
            "_dom_classes": [],
            "_model_module": "@jupyter-widgets/controls",
            "_model_module_version": "1.5.0",
            "_model_name": "FloatProgressModel",
            "_view_count": null,
            "_view_module": "@jupyter-widgets/controls",
            "_view_module_version": "1.5.0",
            "_view_name": "ProgressView",
            "bar_style": "success",
            "description": "",
            "description_tooltip": null,
            "layout": "IPY_MODEL_9c5fa8d57cc744e7b573b93f13f157ac",
            "max": 100,
            "min": 0,
            "orientation": "horizontal",
            "style": "IPY_MODEL_4bfe7bfc4e8541b885fef544931c0ce4",
            "value": 100
          }
        },
        "fa269c5ccb724df783ba658b3998851a": {
          "model_module": "@jupyter-widgets/controls",
          "model_name": "HTMLModel",
          "model_module_version": "1.5.0",
          "state": {
            "_dom_classes": [],
            "_model_module": "@jupyter-widgets/controls",
            "_model_module_version": "1.5.0",
            "_model_name": "HTMLModel",
            "_view_count": null,
            "_view_module": "@jupyter-widgets/controls",
            "_view_module_version": "1.5.0",
            "_view_name": "HTMLView",
            "description": "",
            "description_tooltip": null,
            "layout": "IPY_MODEL_d5d649474b154e7b8cf40a2069d861e7",
            "placeholder": "​",
            "style": "IPY_MODEL_0e4a6b8ef6654816b504cff1cf257cde",
            "value": " 100/100 [00:00&lt;00:00, 172.82it/s]"
          }
        },
        "a094aa1e76194b94bf2470ffecacb36f": {
          "model_module": "@jupyter-widgets/base",
          "model_name": "LayoutModel",
          "model_module_version": "1.2.0",
          "state": {
            "_model_module": "@jupyter-widgets/base",
            "_model_module_version": "1.2.0",
            "_model_name": "LayoutModel",
            "_view_count": null,
            "_view_module": "@jupyter-widgets/base",
            "_view_module_version": "1.2.0",
            "_view_name": "LayoutView",
            "align_content": null,
            "align_items": null,
            "align_self": null,
            "border": null,
            "bottom": null,
            "display": null,
            "flex": null,
            "flex_flow": null,
            "grid_area": null,
            "grid_auto_columns": null,
            "grid_auto_flow": null,
            "grid_auto_rows": null,
            "grid_column": null,
            "grid_gap": null,
            "grid_row": null,
            "grid_template_areas": null,
            "grid_template_columns": null,
            "grid_template_rows": null,
            "height": null,
            "justify_content": null,
            "justify_items": null,
            "left": null,
            "margin": null,
            "max_height": null,
            "max_width": null,
            "min_height": null,
            "min_width": null,
            "object_fit": null,
            "object_position": null,
            "order": null,
            "overflow": null,
            "overflow_x": null,
            "overflow_y": null,
            "padding": null,
            "right": null,
            "top": null,
            "visibility": null,
            "width": null
          }
        },
        "d7fccf847f424823a14ac2dd21bf4c19": {
          "model_module": "@jupyter-widgets/base",
          "model_name": "LayoutModel",
          "model_module_version": "1.2.0",
          "state": {
            "_model_module": "@jupyter-widgets/base",
            "_model_module_version": "1.2.0",
            "_model_name": "LayoutModel",
            "_view_count": null,
            "_view_module": "@jupyter-widgets/base",
            "_view_module_version": "1.2.0",
            "_view_name": "LayoutView",
            "align_content": null,
            "align_items": null,
            "align_self": null,
            "border": null,
            "bottom": null,
            "display": null,
            "flex": null,
            "flex_flow": null,
            "grid_area": null,
            "grid_auto_columns": null,
            "grid_auto_flow": null,
            "grid_auto_rows": null,
            "grid_column": null,
            "grid_gap": null,
            "grid_row": null,
            "grid_template_areas": null,
            "grid_template_columns": null,
            "grid_template_rows": null,
            "height": null,
            "justify_content": null,
            "justify_items": null,
            "left": null,
            "margin": null,
            "max_height": null,
            "max_width": null,
            "min_height": null,
            "min_width": null,
            "object_fit": null,
            "object_position": null,
            "order": null,
            "overflow": null,
            "overflow_x": null,
            "overflow_y": null,
            "padding": null,
            "right": null,
            "top": null,
            "visibility": null,
            "width": null
          }
        },
        "072e2e866f594d538f2fb3c9025ea27f": {
          "model_module": "@jupyter-widgets/controls",
          "model_name": "DescriptionStyleModel",
          "model_module_version": "1.5.0",
          "state": {
            "_model_module": "@jupyter-widgets/controls",
            "_model_module_version": "1.5.0",
            "_model_name": "DescriptionStyleModel",
            "_view_count": null,
            "_view_module": "@jupyter-widgets/base",
            "_view_module_version": "1.2.0",
            "_view_name": "StyleView",
            "description_width": ""
          }
        },
        "9c5fa8d57cc744e7b573b93f13f157ac": {
          "model_module": "@jupyter-widgets/base",
          "model_name": "LayoutModel",
          "model_module_version": "1.2.0",
          "state": {
            "_model_module": "@jupyter-widgets/base",
            "_model_module_version": "1.2.0",
            "_model_name": "LayoutModel",
            "_view_count": null,
            "_view_module": "@jupyter-widgets/base",
            "_view_module_version": "1.2.0",
            "_view_name": "LayoutView",
            "align_content": null,
            "align_items": null,
            "align_self": null,
            "border": null,
            "bottom": null,
            "display": null,
            "flex": null,
            "flex_flow": null,
            "grid_area": null,
            "grid_auto_columns": null,
            "grid_auto_flow": null,
            "grid_auto_rows": null,
            "grid_column": null,
            "grid_gap": null,
            "grid_row": null,
            "grid_template_areas": null,
            "grid_template_columns": null,
            "grid_template_rows": null,
            "height": null,
            "justify_content": null,
            "justify_items": null,
            "left": null,
            "margin": null,
            "max_height": null,
            "max_width": null,
            "min_height": null,
            "min_width": null,
            "object_fit": null,
            "object_position": null,
            "order": null,
            "overflow": null,
            "overflow_x": null,
            "overflow_y": null,
            "padding": null,
            "right": null,
            "top": null,
            "visibility": null,
            "width": null
          }
        },
        "4bfe7bfc4e8541b885fef544931c0ce4": {
          "model_module": "@jupyter-widgets/controls",
          "model_name": "ProgressStyleModel",
          "model_module_version": "1.5.0",
          "state": {
            "_model_module": "@jupyter-widgets/controls",
            "_model_module_version": "1.5.0",
            "_model_name": "ProgressStyleModel",
            "_view_count": null,
            "_view_module": "@jupyter-widgets/base",
            "_view_module_version": "1.2.0",
            "_view_name": "StyleView",
            "bar_color": null,
            "description_width": ""
          }
        },
        "d5d649474b154e7b8cf40a2069d861e7": {
          "model_module": "@jupyter-widgets/base",
          "model_name": "LayoutModel",
          "model_module_version": "1.2.0",
          "state": {
            "_model_module": "@jupyter-widgets/base",
            "_model_module_version": "1.2.0",
            "_model_name": "LayoutModel",
            "_view_count": null,
            "_view_module": "@jupyter-widgets/base",
            "_view_module_version": "1.2.0",
            "_view_name": "LayoutView",
            "align_content": null,
            "align_items": null,
            "align_self": null,
            "border": null,
            "bottom": null,
            "display": null,
            "flex": null,
            "flex_flow": null,
            "grid_area": null,
            "grid_auto_columns": null,
            "grid_auto_flow": null,
            "grid_auto_rows": null,
            "grid_column": null,
            "grid_gap": null,
            "grid_row": null,
            "grid_template_areas": null,
            "grid_template_columns": null,
            "grid_template_rows": null,
            "height": null,
            "justify_content": null,
            "justify_items": null,
            "left": null,
            "margin": null,
            "max_height": null,
            "max_width": null,
            "min_height": null,
            "min_width": null,
            "object_fit": null,
            "object_position": null,
            "order": null,
            "overflow": null,
            "overflow_x": null,
            "overflow_y": null,
            "padding": null,
            "right": null,
            "top": null,
            "visibility": null,
            "width": null
          }
        },
        "0e4a6b8ef6654816b504cff1cf257cde": {
          "model_module": "@jupyter-widgets/controls",
          "model_name": "DescriptionStyleModel",
          "model_module_version": "1.5.0",
          "state": {
            "_model_module": "@jupyter-widgets/controls",
            "_model_module_version": "1.5.0",
            "_model_name": "DescriptionStyleModel",
            "_view_count": null,
            "_view_module": "@jupyter-widgets/base",
            "_view_module_version": "1.2.0",
            "_view_name": "StyleView",
            "description_width": ""
          }
        },
        "d12776ba5f2a4e708109fcac4f686b3f": {
          "model_module": "@jupyter-widgets/controls",
          "model_name": "HBoxModel",
          "model_module_version": "1.5.0",
          "state": {
            "_dom_classes": [],
            "_model_module": "@jupyter-widgets/controls",
            "_model_module_version": "1.5.0",
            "_model_name": "HBoxModel",
            "_view_count": null,
            "_view_module": "@jupyter-widgets/controls",
            "_view_module_version": "1.5.0",
            "_view_name": "HBoxView",
            "box_style": "",
            "children": [
              "IPY_MODEL_e4a26dbba9104559973d6fdff350406a",
              "IPY_MODEL_a3135c86fd024c5580e0a4fe241ca553",
              "IPY_MODEL_e1da002c7fa347b182ceb2d65edd0e6e"
            ],
            "layout": "IPY_MODEL_16d81d4145a9411c86a42b75d9579c00"
          }
        },
        "e4a26dbba9104559973d6fdff350406a": {
          "model_module": "@jupyter-widgets/controls",
          "model_name": "HTMLModel",
          "model_module_version": "1.5.0",
          "state": {
            "_dom_classes": [],
            "_model_module": "@jupyter-widgets/controls",
            "_model_module_version": "1.5.0",
            "_model_name": "HTMLModel",
            "_view_count": null,
            "_view_module": "@jupyter-widgets/controls",
            "_view_module_version": "1.5.0",
            "_view_name": "HTMLView",
            "description": "",
            "description_tooltip": null,
            "layout": "IPY_MODEL_3df189778a1047bda85a9de17464aea9",
            "placeholder": "​",
            "style": "IPY_MODEL_d609bab596c84483bac9f874bec43960",
            "value": "100%"
          }
        },
        "a3135c86fd024c5580e0a4fe241ca553": {
          "model_module": "@jupyter-widgets/controls",
          "model_name": "FloatProgressModel",
          "model_module_version": "1.5.0",
          "state": {
            "_dom_classes": [],
            "_model_module": "@jupyter-widgets/controls",
            "_model_module_version": "1.5.0",
            "_model_name": "FloatProgressModel",
            "_view_count": null,
            "_view_module": "@jupyter-widgets/controls",
            "_view_module_version": "1.5.0",
            "_view_name": "ProgressView",
            "bar_style": "success",
            "description": "",
            "description_tooltip": null,
            "layout": "IPY_MODEL_1f217e452b4542f59e07835a557c16b8",
            "max": 5000,
            "min": 0,
            "orientation": "horizontal",
            "style": "IPY_MODEL_e689e97288e94568bb52b594a974347a",
            "value": 5000
          }
        },
        "e1da002c7fa347b182ceb2d65edd0e6e": {
          "model_module": "@jupyter-widgets/controls",
          "model_name": "HTMLModel",
          "model_module_version": "1.5.0",
          "state": {
            "_dom_classes": [],
            "_model_module": "@jupyter-widgets/controls",
            "_model_module_version": "1.5.0",
            "_model_name": "HTMLModel",
            "_view_count": null,
            "_view_module": "@jupyter-widgets/controls",
            "_view_module_version": "1.5.0",
            "_view_name": "HTMLView",
            "description": "",
            "description_tooltip": null,
            "layout": "IPY_MODEL_31c80c5796f043e9b6932f1773ee910c",
            "placeholder": "​",
            "style": "IPY_MODEL_15235cf181734ed9ab8355ec247ae5b6",
            "value": " 5000/5000 [01:00&lt;00:00, 108.62it/s]"
          }
        },
        "16d81d4145a9411c86a42b75d9579c00": {
          "model_module": "@jupyter-widgets/base",
          "model_name": "LayoutModel",
          "model_module_version": "1.2.0",
          "state": {
            "_model_module": "@jupyter-widgets/base",
            "_model_module_version": "1.2.0",
            "_model_name": "LayoutModel",
            "_view_count": null,
            "_view_module": "@jupyter-widgets/base",
            "_view_module_version": "1.2.0",
            "_view_name": "LayoutView",
            "align_content": null,
            "align_items": null,
            "align_self": null,
            "border": null,
            "bottom": null,
            "display": null,
            "flex": null,
            "flex_flow": null,
            "grid_area": null,
            "grid_auto_columns": null,
            "grid_auto_flow": null,
            "grid_auto_rows": null,
            "grid_column": null,
            "grid_gap": null,
            "grid_row": null,
            "grid_template_areas": null,
            "grid_template_columns": null,
            "grid_template_rows": null,
            "height": null,
            "justify_content": null,
            "justify_items": null,
            "left": null,
            "margin": null,
            "max_height": null,
            "max_width": null,
            "min_height": null,
            "min_width": null,
            "object_fit": null,
            "object_position": null,
            "order": null,
            "overflow": null,
            "overflow_x": null,
            "overflow_y": null,
            "padding": null,
            "right": null,
            "top": null,
            "visibility": null,
            "width": null
          }
        },
        "3df189778a1047bda85a9de17464aea9": {
          "model_module": "@jupyter-widgets/base",
          "model_name": "LayoutModel",
          "model_module_version": "1.2.0",
          "state": {
            "_model_module": "@jupyter-widgets/base",
            "_model_module_version": "1.2.0",
            "_model_name": "LayoutModel",
            "_view_count": null,
            "_view_module": "@jupyter-widgets/base",
            "_view_module_version": "1.2.0",
            "_view_name": "LayoutView",
            "align_content": null,
            "align_items": null,
            "align_self": null,
            "border": null,
            "bottom": null,
            "display": null,
            "flex": null,
            "flex_flow": null,
            "grid_area": null,
            "grid_auto_columns": null,
            "grid_auto_flow": null,
            "grid_auto_rows": null,
            "grid_column": null,
            "grid_gap": null,
            "grid_row": null,
            "grid_template_areas": null,
            "grid_template_columns": null,
            "grid_template_rows": null,
            "height": null,
            "justify_content": null,
            "justify_items": null,
            "left": null,
            "margin": null,
            "max_height": null,
            "max_width": null,
            "min_height": null,
            "min_width": null,
            "object_fit": null,
            "object_position": null,
            "order": null,
            "overflow": null,
            "overflow_x": null,
            "overflow_y": null,
            "padding": null,
            "right": null,
            "top": null,
            "visibility": null,
            "width": null
          }
        },
        "d609bab596c84483bac9f874bec43960": {
          "model_module": "@jupyter-widgets/controls",
          "model_name": "DescriptionStyleModel",
          "model_module_version": "1.5.0",
          "state": {
            "_model_module": "@jupyter-widgets/controls",
            "_model_module_version": "1.5.0",
            "_model_name": "DescriptionStyleModel",
            "_view_count": null,
            "_view_module": "@jupyter-widgets/base",
            "_view_module_version": "1.2.0",
            "_view_name": "StyleView",
            "description_width": ""
          }
        },
        "1f217e452b4542f59e07835a557c16b8": {
          "model_module": "@jupyter-widgets/base",
          "model_name": "LayoutModel",
          "model_module_version": "1.2.0",
          "state": {
            "_model_module": "@jupyter-widgets/base",
            "_model_module_version": "1.2.0",
            "_model_name": "LayoutModel",
            "_view_count": null,
            "_view_module": "@jupyter-widgets/base",
            "_view_module_version": "1.2.0",
            "_view_name": "LayoutView",
            "align_content": null,
            "align_items": null,
            "align_self": null,
            "border": null,
            "bottom": null,
            "display": null,
            "flex": null,
            "flex_flow": null,
            "grid_area": null,
            "grid_auto_columns": null,
            "grid_auto_flow": null,
            "grid_auto_rows": null,
            "grid_column": null,
            "grid_gap": null,
            "grid_row": null,
            "grid_template_areas": null,
            "grid_template_columns": null,
            "grid_template_rows": null,
            "height": null,
            "justify_content": null,
            "justify_items": null,
            "left": null,
            "margin": null,
            "max_height": null,
            "max_width": null,
            "min_height": null,
            "min_width": null,
            "object_fit": null,
            "object_position": null,
            "order": null,
            "overflow": null,
            "overflow_x": null,
            "overflow_y": null,
            "padding": null,
            "right": null,
            "top": null,
            "visibility": null,
            "width": null
          }
        },
        "e689e97288e94568bb52b594a974347a": {
          "model_module": "@jupyter-widgets/controls",
          "model_name": "ProgressStyleModel",
          "model_module_version": "1.5.0",
          "state": {
            "_model_module": "@jupyter-widgets/controls",
            "_model_module_version": "1.5.0",
            "_model_name": "ProgressStyleModel",
            "_view_count": null,
            "_view_module": "@jupyter-widgets/base",
            "_view_module_version": "1.2.0",
            "_view_name": "StyleView",
            "bar_color": null,
            "description_width": ""
          }
        },
        "31c80c5796f043e9b6932f1773ee910c": {
          "model_module": "@jupyter-widgets/base",
          "model_name": "LayoutModel",
          "model_module_version": "1.2.0",
          "state": {
            "_model_module": "@jupyter-widgets/base",
            "_model_module_version": "1.2.0",
            "_model_name": "LayoutModel",
            "_view_count": null,
            "_view_module": "@jupyter-widgets/base",
            "_view_module_version": "1.2.0",
            "_view_name": "LayoutView",
            "align_content": null,
            "align_items": null,
            "align_self": null,
            "border": null,
            "bottom": null,
            "display": null,
            "flex": null,
            "flex_flow": null,
            "grid_area": null,
            "grid_auto_columns": null,
            "grid_auto_flow": null,
            "grid_auto_rows": null,
            "grid_column": null,
            "grid_gap": null,
            "grid_row": null,
            "grid_template_areas": null,
            "grid_template_columns": null,
            "grid_template_rows": null,
            "height": null,
            "justify_content": null,
            "justify_items": null,
            "left": null,
            "margin": null,
            "max_height": null,
            "max_width": null,
            "min_height": null,
            "min_width": null,
            "object_fit": null,
            "object_position": null,
            "order": null,
            "overflow": null,
            "overflow_x": null,
            "overflow_y": null,
            "padding": null,
            "right": null,
            "top": null,
            "visibility": null,
            "width": null
          }
        },
        "15235cf181734ed9ab8355ec247ae5b6": {
          "model_module": "@jupyter-widgets/controls",
          "model_name": "DescriptionStyleModel",
          "model_module_version": "1.5.0",
          "state": {
            "_model_module": "@jupyter-widgets/controls",
            "_model_module_version": "1.5.0",
            "_model_name": "DescriptionStyleModel",
            "_view_count": null,
            "_view_module": "@jupyter-widgets/base",
            "_view_module_version": "1.2.0",
            "_view_name": "StyleView",
            "description_width": ""
          }
        }
      }
    }
  },
  "nbformat": 4,
  "nbformat_minor": 0
}